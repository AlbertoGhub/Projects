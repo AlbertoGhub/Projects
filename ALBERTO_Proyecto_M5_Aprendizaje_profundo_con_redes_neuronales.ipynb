{
  "cells": [
    {
      "cell_type": "markdown",
      "metadata": {
        "id": "view-in-github",
        "colab_type": "text"
      },
      "source": [
        "<a href=\"https://colab.research.google.com/github/AlbertoGhub/Testing_projects/blob/main/ALBERTO_Proyecto_M5_Aprendizaje_profundo_con_redes_neuronales.ipynb\" target=\"_parent\"><img src=\"https://colab.research.google.com/assets/colab-badge.svg\" alt=\"Open In Colab\"/></a>"
      ]
    },
    {
      "cell_type": "markdown",
      "metadata": {
        "id": "FWVOeTCLzinO"
      },
      "source": [
        "## Bootcamp: Ciencia de Datos e Inteligencia Artificial\n",
        "## Proyecto del Módulo 5: Aprendizaje profundo con redes neuronales\n",
        "¡Hola, qué gusto que estés a un paso de obtener tu insignia del módulo 5! Aquí pondrás en juego las habilidades y conocimientos que has practicado a lo largo de estas semanas.\n",
        "\n",
        "Lee el proyecto y revisa con cuidado cada una de las instrucciones. Procura plasmar todo tu potencial para que concluyas tu proyecto de manera exitosa.\n",
        "\n",
        "¡Éxito!"
      ]
    },
    {
      "cell_type": "markdown",
      "metadata": {
        "id": "9LJoroXti_C8"
      },
      "source": [
        "# Objetivos\n",
        "- Aplicarás los conocimientos que has adquirido sobre redes neuronales a contextos de la vida real.\n",
        "- Puntuarás la precisión y valor de los modelos creados.\n",
        "- Generarás gráficas que muestren la evolución de la precisión de los modelos."
      ]
    },
    {
      "cell_type": "markdown",
      "metadata": {
        "id": "3FIZjDqgjC0e"
      },
      "source": [
        "> NOTA: El modelo se entrena en inglés, así que si quieres traducir estas noticias para comprenderlas mejor te puedes apoyar en herramientas como Google Translate, pero recuerda usar el texto en inglés para tu modelo. "
      ]
    },
    {
      "cell_type": "markdown",
      "metadata": {
        "id": "rIXkMjG4zm48"
      },
      "source": [
        "\n",
        "\n",
        "# Parte 1\n",
        "\n",
        "La propagación de *fake news* o noticias falsas se incrementó a partir de la pandemia por COVID-19. Estas son un problema alarmante porque hacen que las personas realicen actividades que normalmente no llevarían a cabo o que actúen de manera caótica. Un ejemplo es [-> esta noticia <-](https://drive.google.com/file/d/1PrfN83Fm1ib5mHYN6SULVe9CJVECUNn2/view?usp=share_link), en la que se relata cómo notas falsas acerca del daño que ocasiona la 5G al cuerpo provocaron que muchas personas en el Reino Unido quemaran torres de telecomunicaciones aun sin ser estas de 5G.\n",
        "\n",
        "A ti, como persona experta en redes neuronales, te han encargado hacer un predetector de noticias falsas para los *fact-checker* del mundo.\n",
        "\n",
        "Para realizarlo, tienes a tu disposición el siguiente *dataset*: https://www.kaggle.com/datasets/saurabhshahane/fake-news-classification\n",
        "\n",
        "## Criterios de evaluación\n",
        "- Utiliza Keras para entrenar un modelo de *Deep Learning* que ayude a detectar una noticia falsa. Recuerda hacer la limpieza de datos y el análisis exploratorio correspondiente para obtener el puntaje completo (2 puntos).\n",
        "  - Pista: Revisa esto -> https://www.tensorflow.org/api_docs/python/tf/keras/preprocessing/text/Tokenizer\n",
        "- Determina el número de épocas a usar y explica por escrito por qué llegaste a esta conclusión. Si no hay explicación, no hay un punto (2 puntos).\n",
        "- Calcula la precisión y pérdida del modelo (1 punto) y grafícalo a través de las épocas (1 punto).\n",
        "- Prueba tu modelo con esta noticia falsa: https://www.breitbart.com/politics/2016/09/10/exposed-fbi-director-james-comeys-clinton-foundation-connection/\n",
        "- Prueba tu modelo con esta noticia verdadera: https://www.washingtonpost.com/sports/2022/11/14/world-cup-female-referee-kathryn-nesbitt/ (2 puntos por ambas comprobaciones).\n",
        "\n",
        "## Punto extra\n",
        "- Usa PyTorch para el entrenamiento.\n",
        "\n"
      ]
    },
    {
      "cell_type": "code",
      "execution_count": null,
      "metadata": {
        "id": "4h57JKnOeG-o"
      },
      "outputs": [],
      "source": [
        "# importing libraries\n",
        "import pandas as pd\n",
        "import numpy as np\n",
        "import matplotlib.pyplot as plt\n",
        "import tensorflow as tf\n",
        "from tensorflow import keras\n",
        "from sklearn.model_selection import train_test_split\n",
        "from keras.preprocessing.text import Tokenizer\n",
        "import seaborn as sns\n",
        "from keras.utils.data_utils import pad_sequences\n",
        "from keras.layers import Input, Embedding, Bidirectional, Dense, Dropout, LSTM\n",
        "from keras.callbacks import EarlyStopping\n",
        "from sklearn.metrics import confusion_matrix, ConfusionMatrixDisplay"
      ]
    },
    {
      "cell_type": "code",
      "source": [
        "from google.colab import drive\n",
        "drive.mount(\"/content/drive\")"
      ],
      "metadata": {
        "colab": {
          "base_uri": "https://localhost:8080/"
        },
        "id": "S8Y-y3l7piYL",
        "outputId": "fb71c4b8-d114-47bd-c1f6-e89b125228e6"
      },
      "execution_count": null,
      "outputs": [
        {
          "output_type": "stream",
          "name": "stdout",
          "text": [
            "Drive already mounted at /content/drive; to attempt to forcibly remount, call drive.mount(\"/content/drive\", force_remount=True).\n"
          ]
        }
      ]
    },
    {
      "cell_type": "code",
      "execution_count": null,
      "metadata": {
        "id": "U4fe6l9cg37G"
      },
      "outputs": [],
      "source": [
        "# Importing data\n",
        "# 1. Real data: This is the data we are going to build our model\n",
        "df = pd.read_csv(\"/content/drive/MyDrive/MI_PERSONAL_PROJECT/ALBERTO_Proyecto_M5/Data/Fake_News_Classification_Dataset.csv\")\n",
        "\n",
        "# 2. Uploading the testing sample so we can check the accuracy of the model\n",
        "testing_news_sample = pd.read_csv(\"/content/drive/MyDrive/MI_PERSONAL_PROJECT/ALBERTO_Proyecto_M5/example_news.csv\")"
      ]
    },
    {
      "cell_type": "code",
      "execution_count": null,
      "metadata": {
        "colab": {
          "base_uri": "https://localhost:8080/"
        },
        "id": "WQ-04VdZw99g",
        "outputId": "b3de9694-8493-4317-fe8d-119fc78e27f7"
      },
      "outputs": [
        {
          "output_type": "stream",
          "name": "stdout",
          "text": [
            "Shape of Fake_News_Classification_Dataset: (72134, 4)\n",
            "\n",
            "Feature's name: Index(['Unnamed: 0', 'title', 'text', 'label'], dtype='object')\n"
          ]
        }
      ],
      "source": [
        "# Getting the shape of the data and column names:\n",
        "\n",
        "print(f\"Shape of Fake_News_Classification_Dataset: {df.shape}\\n\\nFeature's name: {df.columns}\")"
      ]
    },
    {
      "cell_type": "code",
      "execution_count": null,
      "metadata": {
        "colab": {
          "base_uri": "https://localhost:8080/"
        },
        "id": "I4P7IRXM1gRR",
        "outputId": "0a01d948-0336-451d-e68c-3b247f257a27"
      },
      "outputs": [
        {
          "output_type": "execute_result",
          "data": {
            "text/plain": [
              "Unnamed: 0     int64\n",
              "title         object\n",
              "text          object\n",
              "label          int64\n",
              "dtype: object"
            ]
          },
          "metadata": {},
          "execution_count": 10
        }
      ],
      "source": [
        "# Data type (Although it is shown in the previous script)\n",
        "df.dtypes"
      ]
    },
    {
      "cell_type": "code",
      "execution_count": null,
      "metadata": {
        "colab": {
          "base_uri": "https://localhost:8080/",
          "height": 206
        },
        "id": "rv0kY8YZhCy-",
        "outputId": "b99a7128-6383-439b-a1be-f6031baa36c7"
      },
      "outputs": [
        {
          "output_type": "execute_result",
          "data": {
            "text/plain": [
              "   Unnamed: 0                                              title  \\\n",
              "0           0  LAW ENFORCEMENT ON HIGH ALERT Following Threat...   \n",
              "1           1                                                NaN   \n",
              "2           2  UNBELIEVABLE! OBAMA’S ATTORNEY GENERAL SAYS MO...   \n",
              "3           3  Bobby Jindal, raised Hindu, uses story of Chri...   \n",
              "4           4  SATAN 2: Russia unvelis an image of its terrif...   \n",
              "\n",
              "                                                text  label  \n",
              "0  No comment is expected from Barack Obama Membe...      1  \n",
              "1     Did they post their votes for Hillary already?      1  \n",
              "2   Now, most of the demonstrators gathered last ...      1  \n",
              "3  A dozen politically active pastors came here f...      0  \n",
              "4  The RS-28 Sarmat missile, dubbed Satan 2, will...      1  "
            ],
            "text/html": [
              "\n",
              "  <div id=\"df-47c2e278-7994-4f39-89f2-2163bb5fb2bc\">\n",
              "    <div class=\"colab-df-container\">\n",
              "      <div>\n",
              "<style scoped>\n",
              "    .dataframe tbody tr th:only-of-type {\n",
              "        vertical-align: middle;\n",
              "    }\n",
              "\n",
              "    .dataframe tbody tr th {\n",
              "        vertical-align: top;\n",
              "    }\n",
              "\n",
              "    .dataframe thead th {\n",
              "        text-align: right;\n",
              "    }\n",
              "</style>\n",
              "<table border=\"1\" class=\"dataframe\">\n",
              "  <thead>\n",
              "    <tr style=\"text-align: right;\">\n",
              "      <th></th>\n",
              "      <th>Unnamed: 0</th>\n",
              "      <th>title</th>\n",
              "      <th>text</th>\n",
              "      <th>label</th>\n",
              "    </tr>\n",
              "  </thead>\n",
              "  <tbody>\n",
              "    <tr>\n",
              "      <th>0</th>\n",
              "      <td>0</td>\n",
              "      <td>LAW ENFORCEMENT ON HIGH ALERT Following Threat...</td>\n",
              "      <td>No comment is expected from Barack Obama Membe...</td>\n",
              "      <td>1</td>\n",
              "    </tr>\n",
              "    <tr>\n",
              "      <th>1</th>\n",
              "      <td>1</td>\n",
              "      <td>NaN</td>\n",
              "      <td>Did they post their votes for Hillary already?</td>\n",
              "      <td>1</td>\n",
              "    </tr>\n",
              "    <tr>\n",
              "      <th>2</th>\n",
              "      <td>2</td>\n",
              "      <td>UNBELIEVABLE! OBAMA’S ATTORNEY GENERAL SAYS MO...</td>\n",
              "      <td>Now, most of the demonstrators gathered last ...</td>\n",
              "      <td>1</td>\n",
              "    </tr>\n",
              "    <tr>\n",
              "      <th>3</th>\n",
              "      <td>3</td>\n",
              "      <td>Bobby Jindal, raised Hindu, uses story of Chri...</td>\n",
              "      <td>A dozen politically active pastors came here f...</td>\n",
              "      <td>0</td>\n",
              "    </tr>\n",
              "    <tr>\n",
              "      <th>4</th>\n",
              "      <td>4</td>\n",
              "      <td>SATAN 2: Russia unvelis an image of its terrif...</td>\n",
              "      <td>The RS-28 Sarmat missile, dubbed Satan 2, will...</td>\n",
              "      <td>1</td>\n",
              "    </tr>\n",
              "  </tbody>\n",
              "</table>\n",
              "</div>\n",
              "      <button class=\"colab-df-convert\" onclick=\"convertToInteractive('df-47c2e278-7994-4f39-89f2-2163bb5fb2bc')\"\n",
              "              title=\"Convert this dataframe to an interactive table.\"\n",
              "              style=\"display:none;\">\n",
              "        \n",
              "  <svg xmlns=\"http://www.w3.org/2000/svg\" height=\"24px\"viewBox=\"0 0 24 24\"\n",
              "       width=\"24px\">\n",
              "    <path d=\"M0 0h24v24H0V0z\" fill=\"none\"/>\n",
              "    <path d=\"M18.56 5.44l.94 2.06.94-2.06 2.06-.94-2.06-.94-.94-2.06-.94 2.06-2.06.94zm-11 1L8.5 8.5l.94-2.06 2.06-.94-2.06-.94L8.5 2.5l-.94 2.06-2.06.94zm10 10l.94 2.06.94-2.06 2.06-.94-2.06-.94-.94-2.06-.94 2.06-2.06.94z\"/><path d=\"M17.41 7.96l-1.37-1.37c-.4-.4-.92-.59-1.43-.59-.52 0-1.04.2-1.43.59L10.3 9.45l-7.72 7.72c-.78.78-.78 2.05 0 2.83L4 21.41c.39.39.9.59 1.41.59.51 0 1.02-.2 1.41-.59l7.78-7.78 2.81-2.81c.8-.78.8-2.07 0-2.86zM5.41 20L4 18.59l7.72-7.72 1.47 1.35L5.41 20z\"/>\n",
              "  </svg>\n",
              "      </button>\n",
              "      \n",
              "  <style>\n",
              "    .colab-df-container {\n",
              "      display:flex;\n",
              "      flex-wrap:wrap;\n",
              "      gap: 12px;\n",
              "    }\n",
              "\n",
              "    .colab-df-convert {\n",
              "      background-color: #E8F0FE;\n",
              "      border: none;\n",
              "      border-radius: 50%;\n",
              "      cursor: pointer;\n",
              "      display: none;\n",
              "      fill: #1967D2;\n",
              "      height: 32px;\n",
              "      padding: 0 0 0 0;\n",
              "      width: 32px;\n",
              "    }\n",
              "\n",
              "    .colab-df-convert:hover {\n",
              "      background-color: #E2EBFA;\n",
              "      box-shadow: 0px 1px 2px rgba(60, 64, 67, 0.3), 0px 1px 3px 1px rgba(60, 64, 67, 0.15);\n",
              "      fill: #174EA6;\n",
              "    }\n",
              "\n",
              "    [theme=dark] .colab-df-convert {\n",
              "      background-color: #3B4455;\n",
              "      fill: #D2E3FC;\n",
              "    }\n",
              "\n",
              "    [theme=dark] .colab-df-convert:hover {\n",
              "      background-color: #434B5C;\n",
              "      box-shadow: 0px 1px 3px 1px rgba(0, 0, 0, 0.15);\n",
              "      filter: drop-shadow(0px 1px 2px rgba(0, 0, 0, 0.3));\n",
              "      fill: #FFFFFF;\n",
              "    }\n",
              "  </style>\n",
              "\n",
              "      <script>\n",
              "        const buttonEl =\n",
              "          document.querySelector('#df-47c2e278-7994-4f39-89f2-2163bb5fb2bc button.colab-df-convert');\n",
              "        buttonEl.style.display =\n",
              "          google.colab.kernel.accessAllowed ? 'block' : 'none';\n",
              "\n",
              "        async function convertToInteractive(key) {\n",
              "          const element = document.querySelector('#df-47c2e278-7994-4f39-89f2-2163bb5fb2bc');\n",
              "          const dataTable =\n",
              "            await google.colab.kernel.invokeFunction('convertToInteractive',\n",
              "                                                     [key], {});\n",
              "          if (!dataTable) return;\n",
              "\n",
              "          const docLinkHtml = 'Like what you see? Visit the ' +\n",
              "            '<a target=\"_blank\" href=https://colab.research.google.com/notebooks/data_table.ipynb>data table notebook</a>'\n",
              "            + ' to learn more about interactive tables.';\n",
              "          element.innerHTML = '';\n",
              "          dataTable['output_type'] = 'display_data';\n",
              "          await google.colab.output.renderOutput(dataTable, element);\n",
              "          const docLink = document.createElement('div');\n",
              "          docLink.innerHTML = docLinkHtml;\n",
              "          element.appendChild(docLink);\n",
              "        }\n",
              "      </script>\n",
              "    </div>\n",
              "  </div>\n",
              "  "
            ]
          },
          "metadata": {},
          "execution_count": 11
        }
      ],
      "source": [
        "# Showing a snap of the data\n",
        "df.head()"
      ]
    },
    {
      "cell_type": "code",
      "execution_count": null,
      "metadata": {
        "id": "7d-SLye0hJd9"
      },
      "outputs": [],
      "source": [
        "# Removing the Unnamed column\n",
        "df.drop(['Unnamed: 0'], axis = 1, inplace = True)"
      ]
    },
    {
      "cell_type": "code",
      "execution_count": null,
      "metadata": {
        "colab": {
          "base_uri": "https://localhost:8080/",
          "height": 206
        },
        "id": "DAItVDJ1hQUG",
        "outputId": "d009e5a2-cb58-43ef-d30d-2504dc32b417"
      },
      "outputs": [
        {
          "output_type": "execute_result",
          "data": {
            "text/plain": [
              "                                               title  \\\n",
              "0  LAW ENFORCEMENT ON HIGH ALERT Following Threat...   \n",
              "1                                                NaN   \n",
              "2  UNBELIEVABLE! OBAMA’S ATTORNEY GENERAL SAYS MO...   \n",
              "3  Bobby Jindal, raised Hindu, uses story of Chri...   \n",
              "4  SATAN 2: Russia unvelis an image of its terrif...   \n",
              "\n",
              "                                                text  label  \n",
              "0  No comment is expected from Barack Obama Membe...      1  \n",
              "1     Did they post their votes for Hillary already?      1  \n",
              "2   Now, most of the demonstrators gathered last ...      1  \n",
              "3  A dozen politically active pastors came here f...      0  \n",
              "4  The RS-28 Sarmat missile, dubbed Satan 2, will...      1  "
            ],
            "text/html": [
              "\n",
              "  <div id=\"df-8c1fbb2f-ceb3-4083-97b2-d92f8b2459e5\">\n",
              "    <div class=\"colab-df-container\">\n",
              "      <div>\n",
              "<style scoped>\n",
              "    .dataframe tbody tr th:only-of-type {\n",
              "        vertical-align: middle;\n",
              "    }\n",
              "\n",
              "    .dataframe tbody tr th {\n",
              "        vertical-align: top;\n",
              "    }\n",
              "\n",
              "    .dataframe thead th {\n",
              "        text-align: right;\n",
              "    }\n",
              "</style>\n",
              "<table border=\"1\" class=\"dataframe\">\n",
              "  <thead>\n",
              "    <tr style=\"text-align: right;\">\n",
              "      <th></th>\n",
              "      <th>title</th>\n",
              "      <th>text</th>\n",
              "      <th>label</th>\n",
              "    </tr>\n",
              "  </thead>\n",
              "  <tbody>\n",
              "    <tr>\n",
              "      <th>0</th>\n",
              "      <td>LAW ENFORCEMENT ON HIGH ALERT Following Threat...</td>\n",
              "      <td>No comment is expected from Barack Obama Membe...</td>\n",
              "      <td>1</td>\n",
              "    </tr>\n",
              "    <tr>\n",
              "      <th>1</th>\n",
              "      <td>NaN</td>\n",
              "      <td>Did they post their votes for Hillary already?</td>\n",
              "      <td>1</td>\n",
              "    </tr>\n",
              "    <tr>\n",
              "      <th>2</th>\n",
              "      <td>UNBELIEVABLE! OBAMA’S ATTORNEY GENERAL SAYS MO...</td>\n",
              "      <td>Now, most of the demonstrators gathered last ...</td>\n",
              "      <td>1</td>\n",
              "    </tr>\n",
              "    <tr>\n",
              "      <th>3</th>\n",
              "      <td>Bobby Jindal, raised Hindu, uses story of Chri...</td>\n",
              "      <td>A dozen politically active pastors came here f...</td>\n",
              "      <td>0</td>\n",
              "    </tr>\n",
              "    <tr>\n",
              "      <th>4</th>\n",
              "      <td>SATAN 2: Russia unvelis an image of its terrif...</td>\n",
              "      <td>The RS-28 Sarmat missile, dubbed Satan 2, will...</td>\n",
              "      <td>1</td>\n",
              "    </tr>\n",
              "  </tbody>\n",
              "</table>\n",
              "</div>\n",
              "      <button class=\"colab-df-convert\" onclick=\"convertToInteractive('df-8c1fbb2f-ceb3-4083-97b2-d92f8b2459e5')\"\n",
              "              title=\"Convert this dataframe to an interactive table.\"\n",
              "              style=\"display:none;\">\n",
              "        \n",
              "  <svg xmlns=\"http://www.w3.org/2000/svg\" height=\"24px\"viewBox=\"0 0 24 24\"\n",
              "       width=\"24px\">\n",
              "    <path d=\"M0 0h24v24H0V0z\" fill=\"none\"/>\n",
              "    <path d=\"M18.56 5.44l.94 2.06.94-2.06 2.06-.94-2.06-.94-.94-2.06-.94 2.06-2.06.94zm-11 1L8.5 8.5l.94-2.06 2.06-.94-2.06-.94L8.5 2.5l-.94 2.06-2.06.94zm10 10l.94 2.06.94-2.06 2.06-.94-2.06-.94-.94-2.06-.94 2.06-2.06.94z\"/><path d=\"M17.41 7.96l-1.37-1.37c-.4-.4-.92-.59-1.43-.59-.52 0-1.04.2-1.43.59L10.3 9.45l-7.72 7.72c-.78.78-.78 2.05 0 2.83L4 21.41c.39.39.9.59 1.41.59.51 0 1.02-.2 1.41-.59l7.78-7.78 2.81-2.81c.8-.78.8-2.07 0-2.86zM5.41 20L4 18.59l7.72-7.72 1.47 1.35L5.41 20z\"/>\n",
              "  </svg>\n",
              "      </button>\n",
              "      \n",
              "  <style>\n",
              "    .colab-df-container {\n",
              "      display:flex;\n",
              "      flex-wrap:wrap;\n",
              "      gap: 12px;\n",
              "    }\n",
              "\n",
              "    .colab-df-convert {\n",
              "      background-color: #E8F0FE;\n",
              "      border: none;\n",
              "      border-radius: 50%;\n",
              "      cursor: pointer;\n",
              "      display: none;\n",
              "      fill: #1967D2;\n",
              "      height: 32px;\n",
              "      padding: 0 0 0 0;\n",
              "      width: 32px;\n",
              "    }\n",
              "\n",
              "    .colab-df-convert:hover {\n",
              "      background-color: #E2EBFA;\n",
              "      box-shadow: 0px 1px 2px rgba(60, 64, 67, 0.3), 0px 1px 3px 1px rgba(60, 64, 67, 0.15);\n",
              "      fill: #174EA6;\n",
              "    }\n",
              "\n",
              "    [theme=dark] .colab-df-convert {\n",
              "      background-color: #3B4455;\n",
              "      fill: #D2E3FC;\n",
              "    }\n",
              "\n",
              "    [theme=dark] .colab-df-convert:hover {\n",
              "      background-color: #434B5C;\n",
              "      box-shadow: 0px 1px 3px 1px rgba(0, 0, 0, 0.15);\n",
              "      filter: drop-shadow(0px 1px 2px rgba(0, 0, 0, 0.3));\n",
              "      fill: #FFFFFF;\n",
              "    }\n",
              "  </style>\n",
              "\n",
              "      <script>\n",
              "        const buttonEl =\n",
              "          document.querySelector('#df-8c1fbb2f-ceb3-4083-97b2-d92f8b2459e5 button.colab-df-convert');\n",
              "        buttonEl.style.display =\n",
              "          google.colab.kernel.accessAllowed ? 'block' : 'none';\n",
              "\n",
              "        async function convertToInteractive(key) {\n",
              "          const element = document.querySelector('#df-8c1fbb2f-ceb3-4083-97b2-d92f8b2459e5');\n",
              "          const dataTable =\n",
              "            await google.colab.kernel.invokeFunction('convertToInteractive',\n",
              "                                                     [key], {});\n",
              "          if (!dataTable) return;\n",
              "\n",
              "          const docLinkHtml = 'Like what you see? Visit the ' +\n",
              "            '<a target=\"_blank\" href=https://colab.research.google.com/notebooks/data_table.ipynb>data table notebook</a>'\n",
              "            + ' to learn more about interactive tables.';\n",
              "          element.innerHTML = '';\n",
              "          dataTable['output_type'] = 'display_data';\n",
              "          await google.colab.output.renderOutput(dataTable, element);\n",
              "          const docLink = document.createElement('div');\n",
              "          docLink.innerHTML = docLinkHtml;\n",
              "          element.appendChild(docLink);\n",
              "        }\n",
              "      </script>\n",
              "    </div>\n",
              "  </div>\n",
              "  "
            ]
          },
          "metadata": {},
          "execution_count": 13
        }
      ],
      "source": [
        "# Showing a snap of the data\n",
        "df.head()"
      ]
    },
    {
      "cell_type": "code",
      "execution_count": null,
      "metadata": {
        "id": "bAB_eM4YkIie",
        "colab": {
          "base_uri": "https://localhost:8080/"
        },
        "outputId": "ce0d2359-28df-4adb-a3ed-c60d34321241"
      },
      "outputs": [
        {
          "output_type": "stream",
          "name": "stdout",
          "text": [
            "This is the data's frame length before the cleaning:\n",
            "\n",
            "72134\n",
            "\n",
            "In future excecutions we will only work with 1000 just to be able to excecute the code on this PC\n"
          ]
        }
      ],
      "source": [
        "# Length\n",
        "original_length = len(df)\n",
        "\n",
        "print(f\"This is the data's frame length before the cleaning:\\n\\n{original_length}\\n\")\n",
        "print(\"In future excecutions we will only work with 1000 just to be able to excecute the code on this PC\")"
      ]
    },
    {
      "cell_type": "code",
      "execution_count": null,
      "metadata": {
        "colab": {
          "base_uri": "https://localhost:8080/"
        },
        "id": "gfd9DDfphllm",
        "outputId": "02b3da9a-a46d-41ab-8c54-2c0b2966a76f"
      },
      "outputs": [
        {
          "output_type": "execute_result",
          "data": {
            "text/plain": [
              "title    558\n",
              "text      39\n",
              "label      0\n",
              "dtype: int64"
            ]
          },
          "metadata": {},
          "execution_count": 15
        }
      ],
      "source": [
        "# checking the NaNs\n",
        "df.isna().sum()"
      ]
    },
    {
      "cell_type": "code",
      "execution_count": null,
      "metadata": {
        "colab": {
          "base_uri": "https://localhost:8080/"
        },
        "id": "ICd_ScxYh1AW",
        "outputId": "b1687210-165d-4d1a-ff25-35b93b529771"
      },
      "outputs": [
        {
          "output_type": "stream",
          "name": "stdout",
          "text": [
            "PRESENTED PERCENTAGES:\n",
            "\n",
            "1. title: 0.77%\n",
            "2. text: 0.05%\n",
            "3. label: 0.0%\n"
          ]
        }
      ],
      "source": [
        "# Showing the percentage representation of it\n",
        "\n",
        "dicti = dict((df.isna().sum())*100/len(df))\n",
        "print(f\"PRESENTED PERCENTAGES:\\n\\n1. title: {np.around(dicti['title'], 2)}%\\n2. text: {np.around(dicti['text'], 2)}%\\n3. label: {np.around(dicti['label'], 2)}%\")"
      ]
    },
    {
      "cell_type": "code",
      "execution_count": null,
      "metadata": {
        "id": "RaY68CEzjCqW"
      },
      "outputs": [],
      "source": [
        "# Dropping NaNs since the percentage is not representative compare to amount of data (72134)\n",
        "df.dropna(inplace=True);"
      ]
    },
    {
      "cell_type": "code",
      "execution_count": null,
      "metadata": {
        "colab": {
          "base_uri": "https://localhost:8080/"
        },
        "id": "aOAyFL5fncXF",
        "outputId": "a105e93d-1717-4c3a-9d64-1d107825ad8f"
      },
      "outputs": [
        {
          "output_type": "stream",
          "name": "stdout",
          "text": [
            "We went from 72134 to 71537.\n",
            "We just removed 597.\n",
            "This portion of the data represents 0.83% from the original total amount.\n"
          ]
        }
      ],
      "source": [
        "# Checking the data\n",
        "print(f\"We went from {original_length} to {len(df)}.\")\n",
        "print(f\"We just removed {original_length - len(df)}.\")\n",
        "print(f\"This portion of the data represents {np.around((original_length - len(df))*100/72134, 2)}% from the original total amount.\")"
      ]
    },
    {
      "cell_type": "code",
      "execution_count": null,
      "metadata": {
        "colab": {
          "base_uri": "https://localhost:8080/"
        },
        "id": "GtVrtvQmvxNc",
        "outputId": "9a8024fd-77a6-4610-8c7d-e16bb2a13cdf"
      },
      "outputs": [
        {
          "output_type": "execute_result",
          "data": {
            "text/plain": [
              "title    0\n",
              "text     0\n",
              "label    0\n",
              "dtype: int64"
            ]
          },
          "metadata": {},
          "execution_count": 19
        }
      ],
      "source": [
        "# Checking again\n",
        "df.isna().sum()"
      ]
    },
    {
      "cell_type": "code",
      "execution_count": null,
      "metadata": {
        "colab": {
          "base_uri": "https://localhost:8080/"
        },
        "id": "zk2xhmGPxAbp",
        "outputId": "61d2c8b6-71b4-4c8e-d1af-a232a8002f20"
      },
      "outputs": [
        {
          "output_type": "stream",
          "name": "stdout",
          "text": [
            "Shape of Fake_News_Classification_Dataset: (71537, 3)\n",
            "\n",
            "Feature's name: Index(['title', 'text', 'label'], dtype='object')\n"
          ]
        }
      ],
      "source": [
        "# Getting the shape of the data and column names:\n",
        "print(f\"Shape of Fake_News_Classification_Dataset: {df.shape}\\n\\nFeature's name: {df.columns}\")"
      ]
    },
    {
      "cell_type": "code",
      "execution_count": null,
      "metadata": {
        "id": "qACf1Ec42Fb0"
      },
      "outputs": [],
      "source": [
        "# Since the dtypes is showing objects and not numbers, then, we need to either \n",
        "# do it individually as I did or do it with df.describe(include=\"all\")\n",
        "# https://www.sharpsightlabs.com/blog/pandas-describe/"
      ]
    },
    {
      "cell_type": "code",
      "execution_count": null,
      "metadata": {
        "colab": {
          "base_uri": "https://localhost:8080/"
        },
        "id": "yyoGNqJowyHQ",
        "outputId": "3837af8c-7475-403c-d18d-19fcfebc3264"
      },
      "outputs": [
        {
          "output_type": "execute_result",
          "data": {
            "text/plain": [
              "count    71537.000000\n",
              "mean        12.265695\n",
              "std          4.132163\n",
              "min          1.000000\n",
              "25%          9.000000\n",
              "50%         12.000000\n",
              "75%         14.000000\n",
              "max         72.000000\n",
              "Name: title, dtype: float64"
            ]
          },
          "metadata": {},
          "execution_count": 22
        }
      ],
      "source": [
        "# Title statistics:\n",
        "title_length = df.title.str.split().str.len()\n",
        "title_length.describe()"
      ]
    },
    {
      "cell_type": "code",
      "execution_count": null,
      "metadata": {
        "colab": {
          "base_uri": "https://localhost:8080/"
        },
        "id": "YwH2D-gdyEUb",
        "outputId": "dd08a7f7-a469-4767-ec61-2da508aa38ee"
      },
      "outputs": [
        {
          "output_type": "execute_result",
          "data": {
            "text/plain": [
              "count    71537.000000\n",
              "mean       544.562814\n",
              "std        626.341486\n",
              "min          0.000000\n",
              "25%        232.000000\n",
              "50%        401.000000\n",
              "75%        670.000000\n",
              "max      24234.000000\n",
              "Name: text, dtype: float64"
            ]
          },
          "metadata": {},
          "execution_count": 23
        }
      ],
      "source": [
        "# Text statistics:\n",
        "text_length = df.text.str.split().str.len()\n",
        "text_length.describe()"
      ]
    },
    {
      "cell_type": "markdown",
      "metadata": {
        "id": "fq1QYSS32gVU"
      },
      "source": [
        "The statistics for the whole dataset is shown as follows:\n",
        "\n",
        "  1. The ***title*** attribute has a higher word count with an average of 544 words and 75% with more than 600 words.\n",
        "\n",
        "  2. The ***text*** attribute is a short word count with an average of 12 words, and 75% of them are around 14 words.\n",
        "  \n",
        "  3. Finally, we need to realize that this statistics are with whole data frame of 7100+. We well need to run it with the sample of 1000."
      ]
    },
    {
      "cell_type": "code",
      "execution_count": null,
      "metadata": {
        "colab": {
          "base_uri": "https://localhost:8080/",
          "height": 435
        },
        "id": "eBUjt5YsygIl",
        "outputId": "9c5836dc-24f7-4e35-a234-a358b8db6d5e"
      },
      "outputs": [
        {
          "output_type": "stream",
          "name": "stdout",
          "text": [
            "1: Unreliable\n",
            "0: Reliable\n",
            "\n",
            "Distribution of labels:\n",
            "\n",
            "1    36509\n",
            "0    35028\n",
            "Name: label, dtype: int64\n",
            "\n"
          ]
        },
        {
          "output_type": "display_data",
          "data": {
            "text/plain": [
              "<Figure size 432x288 with 1 Axes>"
            ],
            "image/png": "[encoded data removed]"
          },
          "metadata": {
            "needs_background": "light"
          }
        }
      ],
      "source": [
        "sns.countplot(x=\"label\", data=df);\n",
        "print(\"1: Unreliable\")\n",
        "print(\"0: Reliable\")\n",
        "print(\"\\nDistribution of labels:\\n\")\n",
        "print(f\"{df.label.value_counts()}\\n\");"
      ]
    },
    {
      "cell_type": "code",
      "execution_count": null,
      "metadata": {
        "colab": {
          "base_uri": "https://localhost:8080/"
        },
        "id": "qj87kA2KzDW3",
        "outputId": "9d48c4bf-36b8-469a-ec0b-029de83a76d1"
      },
      "outputs": [
        {
          "output_type": "stream",
          "name": "stdout",
          "text": [
            "1    51.0\n",
            "0    49.0\n",
            "Name: label, dtype: float64\n"
          ]
        }
      ],
      "source": [
        "# Another way of checking the percentages\n",
        "print(round(df.label.value_counts(normalize=True),2)*100);"
      ]
    },
    {
      "cell_type": "markdown",
      "metadata": {
        "id": "Q5BE9iozCnpP"
      },
      "source": [
        "The number of unreliable articles (false or 1) is 36509, while the number of reliable articles (reliable or 0) is 35028. Almost 51% of the articles are false. Therefore, the accuracy metric will measure how well our model performs in building a classifier.\n",
        "\n",
        "Data cleaning for analysis\n",
        "In this section, we will clean our dataset to do some analysis:\n",
        "\n",
        "  1. Remove unused rows and columns (not applicable).\n",
        "  2. Perform null value imputation (remove NaNs in case the percentage is not representative compared to the whole data set).\n",
        "  3. Remove special characters.\n",
        "  4. Remove empty words."
      ]
    },
    {
      "cell_type": "markdown",
      "metadata": {
        "id": "OO8v1A8YP7fC"
      },
      "source": [
        "### At this step:\n",
        "\n",
        "1. Now as stated, this data set is way too big to excecute.\n",
        "2. What we are going to do is to take a random sample (1000 with a seed(42)) so we can test the neuronal network.\n",
        "3. At the end, we are going to test with a testing file (another fake news file \"pruebas\") to check the performance."
      ]
    },
    {
      "cell_type": "code",
      "execution_count": null,
      "metadata": {
        "colab": {
          "base_uri": "https://localhost:8080/",
          "height": 423
        },
        "id": "_GQqMyWEEhaD",
        "outputId": "7ffffeaa-ef75-44a1-d8f8-edd001120fb5"
      },
      "outputs": [
        {
          "output_type": "execute_result",
          "data": {
            "text/plain": [
              "                                                   title  \\\n",
              "54359  Live at Truthdig: Robert Scheer and Thomas Fra...   \n",
              "6993   The Mirage of a Return to Manufacturing Greatn...   \n",
              "28912  British PM expected to offer to fill post-Brex...   \n",
              "65965                                  Checkmating Obama   \n",
              "2307   Thirty-eight injured in police charges in Cata...   \n",
              "...                                                  ...   \n",
              "14790  TRUMP SLAMS ABC For Ignoring Pro-Life March Wh...   \n",
              "438    As Clinton moves to brink of nomination, Sande...   \n",
              "67513   Trump Demands Apology From The Media And Gets...   \n",
              "70476  OFF HER ROCKER! MAXINE WATERS: Trump Has ‘Tend...   \n",
              "30102  Milo Yiannopoulos’s Pedophilia Comments Cost H...   \n",
              "\n",
              "                                                    text  label  \n",
              "54359  Live at Truthdig: Robert Scheer and Thomas Fra...      1  \n",
              "6993   Half a century ago, harvesting California’s 2....      0  \n",
              "28912  (Reuters) - The British government has told Ge...      0  \n",
              "65965  Originally published by the Jerusalem Post . \\...      1  \n",
              "2307   MADRID (Reuters) - Emergency services have att...      0  \n",
              "...                                                  ...    ...  \n",
              "14790  Watch:MUIR: And as we walked through the White...      1  \n",
              "438    While Hillary Clinton moved to the brink of cl...      0  \n",
              "67513  Donald Trump, the pathetic man who has yet to ...      1  \n",
              "70476  Rep. Maxine Waters (D., Calif.) Monday accused...      1  \n",
              "30102  WASHINGTON  —   Milo Yiannopoulos, a polemical...      0  \n",
              "\n",
              "[2000 rows x 3 columns]"
            ],
            "text/html": [
              "\n",
              "  <div id=\"df-c8e90f34-9b60-4a3a-9bee-de308e34cb1a\">\n",
              "    <div class=\"colab-df-container\">\n",
              "      <div>\n",
              "<style scoped>\n",
              "    .dataframe tbody tr th:only-of-type {\n",
              "        vertical-align: middle;\n",
              "    }\n",
              "\n",
              "    .dataframe tbody tr th {\n",
              "        vertical-align: top;\n",
              "    }\n",
              "\n",
              "    .dataframe thead th {\n",
              "        text-align: right;\n",
              "    }\n",
              "</style>\n",
              "<table border=\"1\" class=\"dataframe\">\n",
              "  <thead>\n",
              "    <tr style=\"text-align: right;\">\n",
              "      <th></th>\n",
              "      <th>title</th>\n",
              "      <th>text</th>\n",
              "      <th>label</th>\n",
              "    </tr>\n",
              "  </thead>\n",
              "  <tbody>\n",
              "    <tr>\n",
              "      <th>54359</th>\n",
              "      <td>Live at Truthdig: Robert Scheer and Thomas Fra...</td>\n",
              "      <td>Live at Truthdig: Robert Scheer and Thomas Fra...</td>\n",
              "      <td>1</td>\n",
              "    </tr>\n",
              "    <tr>\n",
              "      <th>6993</th>\n",
              "      <td>The Mirage of a Return to Manufacturing Greatn...</td>\n",
              "      <td>Half a century ago, harvesting California’s 2....</td>\n",
              "      <td>0</td>\n",
              "    </tr>\n",
              "    <tr>\n",
              "      <th>28912</th>\n",
              "      <td>British PM expected to offer to fill post-Brex...</td>\n",
              "      <td>(Reuters) - The British government has told Ge...</td>\n",
              "      <td>0</td>\n",
              "    </tr>\n",
              "    <tr>\n",
              "      <th>65965</th>\n",
              "      <td>Checkmating Obama</td>\n",
              "      <td>Originally published by the Jerusalem Post . \\...</td>\n",
              "      <td>1</td>\n",
              "    </tr>\n",
              "    <tr>\n",
              "      <th>2307</th>\n",
              "      <td>Thirty-eight injured in police charges in Cata...</td>\n",
              "      <td>MADRID (Reuters) - Emergency services have att...</td>\n",
              "      <td>0</td>\n",
              "    </tr>\n",
              "    <tr>\n",
              "      <th>...</th>\n",
              "      <td>...</td>\n",
              "      <td>...</td>\n",
              "      <td>...</td>\n",
              "    </tr>\n",
              "    <tr>\n",
              "      <th>14790</th>\n",
              "      <td>TRUMP SLAMS ABC For Ignoring Pro-Life March Wh...</td>\n",
              "      <td>Watch:MUIR: And as we walked through the White...</td>\n",
              "      <td>1</td>\n",
              "    </tr>\n",
              "    <tr>\n",
              "      <th>438</th>\n",
              "      <td>As Clinton moves to brink of nomination, Sande...</td>\n",
              "      <td>While Hillary Clinton moved to the brink of cl...</td>\n",
              "      <td>0</td>\n",
              "    </tr>\n",
              "    <tr>\n",
              "      <th>67513</th>\n",
              "      <td>Trump Demands Apology From The Media And Gets...</td>\n",
              "      <td>Donald Trump, the pathetic man who has yet to ...</td>\n",
              "      <td>1</td>\n",
              "    </tr>\n",
              "    <tr>\n",
              "      <th>70476</th>\n",
              "      <td>OFF HER ROCKER! MAXINE WATERS: Trump Has ‘Tend...</td>\n",
              "      <td>Rep. Maxine Waters (D., Calif.) Monday accused...</td>\n",
              "      <td>1</td>\n",
              "    </tr>\n",
              "    <tr>\n",
              "      <th>30102</th>\n",
              "      <td>Milo Yiannopoulos’s Pedophilia Comments Cost H...</td>\n",
              "      <td>WASHINGTON  —   Milo Yiannopoulos, a polemical...</td>\n",
              "      <td>0</td>\n",
              "    </tr>\n",
              "  </tbody>\n",
              "</table>\n",
              "<p>2000 rows × 3 columns</p>\n",
              "</div>\n",
              "      <button class=\"colab-df-convert\" onclick=\"convertToInteractive('df-c8e90f34-9b60-4a3a-9bee-de308e34cb1a')\"\n",
              "              title=\"Convert this dataframe to an interactive table.\"\n",
              "              style=\"display:none;\">\n",
              "        \n",
              "  <svg xmlns=\"http://www.w3.org/2000/svg\" height=\"24px\"viewBox=\"0 0 24 24\"\n",
              "       width=\"24px\">\n",
              "    <path d=\"M0 0h24v24H0V0z\" fill=\"none\"/>\n",
              "    <path d=\"M18.56 5.44l.94 2.06.94-2.06 2.06-.94-2.06-.94-.94-2.06-.94 2.06-2.06.94zm-11 1L8.5 8.5l.94-2.06 2.06-.94-2.06-.94L8.5 2.5l-.94 2.06-2.06.94zm10 10l.94 2.06.94-2.06 2.06-.94-2.06-.94-.94-2.06-.94 2.06-2.06.94z\"/><path d=\"M17.41 7.96l-1.37-1.37c-.4-.4-.92-.59-1.43-.59-.52 0-1.04.2-1.43.59L10.3 9.45l-7.72 7.72c-.78.78-.78 2.05 0 2.83L4 21.41c.39.39.9.59 1.41.59.51 0 1.02-.2 1.41-.59l7.78-7.78 2.81-2.81c.8-.78.8-2.07 0-2.86zM5.41 20L4 18.59l7.72-7.72 1.47 1.35L5.41 20z\"/>\n",
              "  </svg>\n",
              "      </button>\n",
              "      \n",
              "  <style>\n",
              "    .colab-df-container {\n",
              "      display:flex;\n",
              "      flex-wrap:wrap;\n",
              "      gap: 12px;\n",
              "    }\n",
              "\n",
              "    .colab-df-convert {\n",
              "      background-color: #E8F0FE;\n",
              "      border: none;\n",
              "      border-radius: 50%;\n",
              "      cursor: pointer;\n",
              "      display: none;\n",
              "      fill: #1967D2;\n",
              "      height: 32px;\n",
              "      padding: 0 0 0 0;\n",
              "      width: 32px;\n",
              "    }\n",
              "\n",
              "    .colab-df-convert:hover {\n",
              "      background-color: #E2EBFA;\n",
              "      box-shadow: 0px 1px 2px rgba(60, 64, 67, 0.3), 0px 1px 3px 1px rgba(60, 64, 67, 0.15);\n",
              "      fill: #174EA6;\n",
              "    }\n",
              "\n",
              "    [theme=dark] .colab-df-convert {\n",
              "      background-color: #3B4455;\n",
              "      fill: #D2E3FC;\n",
              "    }\n",
              "\n",
              "    [theme=dark] .colab-df-convert:hover {\n",
              "      background-color: #434B5C;\n",
              "      box-shadow: 0px 1px 3px 1px rgba(0, 0, 0, 0.15);\n",
              "      filter: drop-shadow(0px 1px 2px rgba(0, 0, 0, 0.3));\n",
              "      fill: #FFFFFF;\n",
              "    }\n",
              "  </style>\n",
              "\n",
              "      <script>\n",
              "        const buttonEl =\n",
              "          document.querySelector('#df-c8e90f34-9b60-4a3a-9bee-de308e34cb1a button.colab-df-convert');\n",
              "        buttonEl.style.display =\n",
              "          google.colab.kernel.accessAllowed ? 'block' : 'none';\n",
              "\n",
              "        async function convertToInteractive(key) {\n",
              "          const element = document.querySelector('#df-c8e90f34-9b60-4a3a-9bee-de308e34cb1a');\n",
              "          const dataTable =\n",
              "            await google.colab.kernel.invokeFunction('convertToInteractive',\n",
              "                                                     [key], {});\n",
              "          if (!dataTable) return;\n",
              "\n",
              "          const docLinkHtml = 'Like what you see? Visit the ' +\n",
              "            '<a target=\"_blank\" href=https://colab.research.google.com/notebooks/data_table.ipynb>data table notebook</a>'\n",
              "            + ' to learn more about interactive tables.';\n",
              "          element.innerHTML = '';\n",
              "          dataTable['output_type'] = 'display_data';\n",
              "          await google.colab.output.renderOutput(dataTable, element);\n",
              "          const docLink = document.createElement('div');\n",
              "          docLink.innerHTML = docLinkHtml;\n",
              "          element.appendChild(docLink);\n",
              "        }\n",
              "      </script>\n",
              "    </div>\n",
              "  </div>\n",
              "  "
            ]
          },
          "metadata": {},
          "execution_count": 26
        }
      ],
      "source": [
        "random_df = df.sample(n = 2000, random_state = 42)\n",
        "random_df"
      ]
    },
    {
      "cell_type": "markdown",
      "metadata": {
        "id": "0rZfaDnYP7fD"
      },
      "source": [
        "### As we can see, this is a sample with 1000 rows. Let's work with this dataframe so we can run it faster"
      ]
    },
    {
      "cell_type": "code",
      "execution_count": null,
      "metadata": {
        "id": "EYKXnab2P7fD",
        "outputId": "a13c90aa-6f4a-434e-dc46-016713b38fad",
        "colab": {
          "base_uri": "https://localhost:8080/"
        }
      },
      "outputs": [
        {
          "output_type": "execute_result",
          "data": {
            "text/plain": [
              "title    0\n",
              "text     0\n",
              "label    0\n",
              "dtype: int64"
            ]
          },
          "metadata": {},
          "execution_count": 27
        }
      ],
      "source": [
        "# Let's check the data just in case\n",
        "random_df.isna().sum()"
      ]
    },
    {
      "cell_type": "markdown",
      "metadata": {
        "id": "Td9aFAzlP7fD"
      },
      "source": [
        "### Now that we have the dataset cleaned, we are going to merge the Text and title columns so they are just one string"
      ]
    },
    {
      "cell_type": "code",
      "execution_count": null,
      "metadata": {
        "id": "VJB41hyZP7fD"
      },
      "outputs": [],
      "source": [
        "# Merging the text file into the title one:\n",
        "\n",
        "# Original sample\n",
        "random_df[\"Text_Title_Merged\"] = random_df[\"title\"] + \" \" + random_df[\"text\"]\n",
        "\n",
        "# Testing news\n",
        "testing_news_sample[\"Text_Title_Merged\"] = testing_news_sample[\"title\"] + \" \" + testing_news_sample[\"text\"] "
      ]
    },
    {
      "cell_type": "code",
      "execution_count": null,
      "metadata": {
        "id": "8micOJqxP7fD",
        "outputId": "6524fd26-00da-4007-fb1d-73fbc8af4c45",
        "colab": {
          "base_uri": "https://localhost:8080/",
          "height": 206
        }
      },
      "outputs": [
        {
          "output_type": "execute_result",
          "data": {
            "text/plain": [
              "                                                   title  \\\n",
              "54359  Live at Truthdig: Robert Scheer and Thomas Fra...   \n",
              "6993   The Mirage of a Return to Manufacturing Greatn...   \n",
              "28912  British PM expected to offer to fill post-Brex...   \n",
              "65965                                  Checkmating Obama   \n",
              "2307   Thirty-eight injured in police charges in Cata...   \n",
              "\n",
              "                                                    text  label  \\\n",
              "54359  Live at Truthdig: Robert Scheer and Thomas Fra...      1   \n",
              "6993   Half a century ago, harvesting California’s 2....      0   \n",
              "28912  (Reuters) - The British government has told Ge...      0   \n",
              "65965  Originally published by the Jerusalem Post . \\...      1   \n",
              "2307   MADRID (Reuters) - Emergency services have att...      0   \n",
              "\n",
              "                                       Text_Title_Merged  \n",
              "54359  Live at Truthdig: Robert Scheer and Thomas Fra...  \n",
              "6993   The Mirage of a Return to Manufacturing Greatn...  \n",
              "28912  British PM expected to offer to fill post-Brex...  \n",
              "65965  Checkmating Obama Originally published by the ...  \n",
              "2307   Thirty-eight injured in police charges in Cata...  "
            ],
            "text/html": [
              "\n",
              "  <div id=\"df-07f54e72-230f-4c5e-8b00-99338638e37e\">\n",
              "    <div class=\"colab-df-container\">\n",
              "      <div>\n",
              "<style scoped>\n",
              "    .dataframe tbody tr th:only-of-type {\n",
              "        vertical-align: middle;\n",
              "    }\n",
              "\n",
              "    .dataframe tbody tr th {\n",
              "        vertical-align: top;\n",
              "    }\n",
              "\n",
              "    .dataframe thead th {\n",
              "        text-align: right;\n",
              "    }\n",
              "</style>\n",
              "<table border=\"1\" class=\"dataframe\">\n",
              "  <thead>\n",
              "    <tr style=\"text-align: right;\">\n",
              "      <th></th>\n",
              "      <th>title</th>\n",
              "      <th>text</th>\n",
              "      <th>label</th>\n",
              "      <th>Text_Title_Merged</th>\n",
              "    </tr>\n",
              "  </thead>\n",
              "  <tbody>\n",
              "    <tr>\n",
              "      <th>54359</th>\n",
              "      <td>Live at Truthdig: Robert Scheer and Thomas Fra...</td>\n",
              "      <td>Live at Truthdig: Robert Scheer and Thomas Fra...</td>\n",
              "      <td>1</td>\n",
              "      <td>Live at Truthdig: Robert Scheer and Thomas Fra...</td>\n",
              "    </tr>\n",
              "    <tr>\n",
              "      <th>6993</th>\n",
              "      <td>The Mirage of a Return to Manufacturing Greatn...</td>\n",
              "      <td>Half a century ago, harvesting California’s 2....</td>\n",
              "      <td>0</td>\n",
              "      <td>The Mirage of a Return to Manufacturing Greatn...</td>\n",
              "    </tr>\n",
              "    <tr>\n",
              "      <th>28912</th>\n",
              "      <td>British PM expected to offer to fill post-Brex...</td>\n",
              "      <td>(Reuters) - The British government has told Ge...</td>\n",
              "      <td>0</td>\n",
              "      <td>British PM expected to offer to fill post-Brex...</td>\n",
              "    </tr>\n",
              "    <tr>\n",
              "      <th>65965</th>\n",
              "      <td>Checkmating Obama</td>\n",
              "      <td>Originally published by the Jerusalem Post . \\...</td>\n",
              "      <td>1</td>\n",
              "      <td>Checkmating Obama Originally published by the ...</td>\n",
              "    </tr>\n",
              "    <tr>\n",
              "      <th>2307</th>\n",
              "      <td>Thirty-eight injured in police charges in Cata...</td>\n",
              "      <td>MADRID (Reuters) - Emergency services have att...</td>\n",
              "      <td>0</td>\n",
              "      <td>Thirty-eight injured in police charges in Cata...</td>\n",
              "    </tr>\n",
              "  </tbody>\n",
              "</table>\n",
              "</div>\n",
              "      <button class=\"colab-df-convert\" onclick=\"convertToInteractive('df-07f54e72-230f-4c5e-8b00-99338638e37e')\"\n",
              "              title=\"Convert this dataframe to an interactive table.\"\n",
              "              style=\"display:none;\">\n",
              "        \n",
              "  <svg xmlns=\"http://www.w3.org/2000/svg\" height=\"24px\"viewBox=\"0 0 24 24\"\n",
              "       width=\"24px\">\n",
              "    <path d=\"M0 0h24v24H0V0z\" fill=\"none\"/>\n",
              "    <path d=\"M18.56 5.44l.94 2.06.94-2.06 2.06-.94-2.06-.94-.94-2.06-.94 2.06-2.06.94zm-11 1L8.5 8.5l.94-2.06 2.06-.94-2.06-.94L8.5 2.5l-.94 2.06-2.06.94zm10 10l.94 2.06.94-2.06 2.06-.94-2.06-.94-.94-2.06-.94 2.06-2.06.94z\"/><path d=\"M17.41 7.96l-1.37-1.37c-.4-.4-.92-.59-1.43-.59-.52 0-1.04.2-1.43.59L10.3 9.45l-7.72 7.72c-.78.78-.78 2.05 0 2.83L4 21.41c.39.39.9.59 1.41.59.51 0 1.02-.2 1.41-.59l7.78-7.78 2.81-2.81c.8-.78.8-2.07 0-2.86zM5.41 20L4 18.59l7.72-7.72 1.47 1.35L5.41 20z\"/>\n",
              "  </svg>\n",
              "      </button>\n",
              "      \n",
              "  <style>\n",
              "    .colab-df-container {\n",
              "      display:flex;\n",
              "      flex-wrap:wrap;\n",
              "      gap: 12px;\n",
              "    }\n",
              "\n",
              "    .colab-df-convert {\n",
              "      background-color: #E8F0FE;\n",
              "      border: none;\n",
              "      border-radius: 50%;\n",
              "      cursor: pointer;\n",
              "      display: none;\n",
              "      fill: #1967D2;\n",
              "      height: 32px;\n",
              "      padding: 0 0 0 0;\n",
              "      width: 32px;\n",
              "    }\n",
              "\n",
              "    .colab-df-convert:hover {\n",
              "      background-color: #E2EBFA;\n",
              "      box-shadow: 0px 1px 2px rgba(60, 64, 67, 0.3), 0px 1px 3px 1px rgba(60, 64, 67, 0.15);\n",
              "      fill: #174EA6;\n",
              "    }\n",
              "\n",
              "    [theme=dark] .colab-df-convert {\n",
              "      background-color: #3B4455;\n",
              "      fill: #D2E3FC;\n",
              "    }\n",
              "\n",
              "    [theme=dark] .colab-df-convert:hover {\n",
              "      background-color: #434B5C;\n",
              "      box-shadow: 0px 1px 3px 1px rgba(0, 0, 0, 0.15);\n",
              "      filter: drop-shadow(0px 1px 2px rgba(0, 0, 0, 0.3));\n",
              "      fill: #FFFFFF;\n",
              "    }\n",
              "  </style>\n",
              "\n",
              "      <script>\n",
              "        const buttonEl =\n",
              "          document.querySelector('#df-07f54e72-230f-4c5e-8b00-99338638e37e button.colab-df-convert');\n",
              "        buttonEl.style.display =\n",
              "          google.colab.kernel.accessAllowed ? 'block' : 'none';\n",
              "\n",
              "        async function convertToInteractive(key) {\n",
              "          const element = document.querySelector('#df-07f54e72-230f-4c5e-8b00-99338638e37e');\n",
              "          const dataTable =\n",
              "            await google.colab.kernel.invokeFunction('convertToInteractive',\n",
              "                                                     [key], {});\n",
              "          if (!dataTable) return;\n",
              "\n",
              "          const docLinkHtml = 'Like what you see? Visit the ' +\n",
              "            '<a target=\"_blank\" href=https://colab.research.google.com/notebooks/data_table.ipynb>data table notebook</a>'\n",
              "            + ' to learn more about interactive tables.';\n",
              "          element.innerHTML = '';\n",
              "          dataTable['output_type'] = 'display_data';\n",
              "          await google.colab.output.renderOutput(dataTable, element);\n",
              "          const docLink = document.createElement('div');\n",
              "          docLink.innerHTML = docLinkHtml;\n",
              "          element.appendChild(docLink);\n",
              "        }\n",
              "      </script>\n",
              "    </div>\n",
              "  </div>\n",
              "  "
            ]
          },
          "metadata": {},
          "execution_count": 29
        }
      ],
      "source": [
        "# Snap of original sample\n",
        "random_df.head(5)"
      ]
    },
    {
      "cell_type": "code",
      "execution_count": null,
      "metadata": {
        "colab": {
          "base_uri": "https://localhost:8080/"
        },
        "id": "cxDMuubNpa-W",
        "outputId": "33740cb4-00e9-4fc1-8363-16843c93eadb"
      },
      "outputs": [
        {
          "output_type": "execute_result",
          "data": {
            "text/plain": [
              "Index(['title', 'text', 'label', 'Text_Title_Merged'], dtype='object')"
            ]
          },
          "metadata": {},
          "execution_count": 30
        }
      ],
      "source": [
        "# Column names\n",
        "random_df.columns"
      ]
    },
    {
      "cell_type": "code",
      "execution_count": null,
      "metadata": {
        "colab": {
          "base_uri": "https://localhost:8080/",
          "height": 112
        },
        "id": "-4jfKMBppa-W",
        "outputId": "a6d36427-6e63-413b-8474-6cc067e470d2"
      },
      "outputs": [
        {
          "output_type": "execute_result",
          "data": {
            "text/plain": [
              "                                               title  \\\n",
              "0  Reptilians reveal themselves to world, denounc...   \n",
              "1  US to pay $6.5 million in lost wages owed to M...   \n",
              "\n",
              "                                                text  label  \\\n",
              "0  Last week, while billions were watching their ...      1   \n",
              "1  Some 13,000 Mexican migrant workers are owed $...      0   \n",
              "\n",
              "                                   Text_Title_Merged  \n",
              "0  Reptilians reveal themselves to world, denounc...  \n",
              "1  US to pay $6.5 million in lost wages owed to M...  "
            ],
            "text/html": [
              "\n",
              "  <div id=\"df-12d038e2-7169-4ee6-9629-9c1b2e70818b\">\n",
              "    <div class=\"colab-df-container\">\n",
              "      <div>\n",
              "<style scoped>\n",
              "    .dataframe tbody tr th:only-of-type {\n",
              "        vertical-align: middle;\n",
              "    }\n",
              "\n",
              "    .dataframe tbody tr th {\n",
              "        vertical-align: top;\n",
              "    }\n",
              "\n",
              "    .dataframe thead th {\n",
              "        text-align: right;\n",
              "    }\n",
              "</style>\n",
              "<table border=\"1\" class=\"dataframe\">\n",
              "  <thead>\n",
              "    <tr style=\"text-align: right;\">\n",
              "      <th></th>\n",
              "      <th>title</th>\n",
              "      <th>text</th>\n",
              "      <th>label</th>\n",
              "      <th>Text_Title_Merged</th>\n",
              "    </tr>\n",
              "  </thead>\n",
              "  <tbody>\n",
              "    <tr>\n",
              "      <th>0</th>\n",
              "      <td>Reptilians reveal themselves to world, denounc...</td>\n",
              "      <td>Last week, while billions were watching their ...</td>\n",
              "      <td>1</td>\n",
              "      <td>Reptilians reveal themselves to world, denounc...</td>\n",
              "    </tr>\n",
              "    <tr>\n",
              "      <th>1</th>\n",
              "      <td>US to pay $6.5 million in lost wages owed to M...</td>\n",
              "      <td>Some 13,000 Mexican migrant workers are owed $...</td>\n",
              "      <td>0</td>\n",
              "      <td>US to pay $6.5 million in lost wages owed to M...</td>\n",
              "    </tr>\n",
              "  </tbody>\n",
              "</table>\n",
              "</div>\n",
              "      <button class=\"colab-df-convert\" onclick=\"convertToInteractive('df-12d038e2-7169-4ee6-9629-9c1b2e70818b')\"\n",
              "              title=\"Convert this dataframe to an interactive table.\"\n",
              "              style=\"display:none;\">\n",
              "        \n",
              "  <svg xmlns=\"http://www.w3.org/2000/svg\" height=\"24px\"viewBox=\"0 0 24 24\"\n",
              "       width=\"24px\">\n",
              "    <path d=\"M0 0h24v24H0V0z\" fill=\"none\"/>\n",
              "    <path d=\"M18.56 5.44l.94 2.06.94-2.06 2.06-.94-2.06-.94-.94-2.06-.94 2.06-2.06.94zm-11 1L8.5 8.5l.94-2.06 2.06-.94-2.06-.94L8.5 2.5l-.94 2.06-2.06.94zm10 10l.94 2.06.94-2.06 2.06-.94-2.06-.94-.94-2.06-.94 2.06-2.06.94z\"/><path d=\"M17.41 7.96l-1.37-1.37c-.4-.4-.92-.59-1.43-.59-.52 0-1.04.2-1.43.59L10.3 9.45l-7.72 7.72c-.78.78-.78 2.05 0 2.83L4 21.41c.39.39.9.59 1.41.59.51 0 1.02-.2 1.41-.59l7.78-7.78 2.81-2.81c.8-.78.8-2.07 0-2.86zM5.41 20L4 18.59l7.72-7.72 1.47 1.35L5.41 20z\"/>\n",
              "  </svg>\n",
              "      </button>\n",
              "      \n",
              "  <style>\n",
              "    .colab-df-container {\n",
              "      display:flex;\n",
              "      flex-wrap:wrap;\n",
              "      gap: 12px;\n",
              "    }\n",
              "\n",
              "    .colab-df-convert {\n",
              "      background-color: #E8F0FE;\n",
              "      border: none;\n",
              "      border-radius: 50%;\n",
              "      cursor: pointer;\n",
              "      display: none;\n",
              "      fill: #1967D2;\n",
              "      height: 32px;\n",
              "      padding: 0 0 0 0;\n",
              "      width: 32px;\n",
              "    }\n",
              "\n",
              "    .colab-df-convert:hover {\n",
              "      background-color: #E2EBFA;\n",
              "      box-shadow: 0px 1px 2px rgba(60, 64, 67, 0.3), 0px 1px 3px 1px rgba(60, 64, 67, 0.15);\n",
              "      fill: #174EA6;\n",
              "    }\n",
              "\n",
              "    [theme=dark] .colab-df-convert {\n",
              "      background-color: #3B4455;\n",
              "      fill: #D2E3FC;\n",
              "    }\n",
              "\n",
              "    [theme=dark] .colab-df-convert:hover {\n",
              "      background-color: #434B5C;\n",
              "      box-shadow: 0px 1px 3px 1px rgba(0, 0, 0, 0.15);\n",
              "      filter: drop-shadow(0px 1px 2px rgba(0, 0, 0, 0.3));\n",
              "      fill: #FFFFFF;\n",
              "    }\n",
              "  </style>\n",
              "\n",
              "      <script>\n",
              "        const buttonEl =\n",
              "          document.querySelector('#df-12d038e2-7169-4ee6-9629-9c1b2e70818b button.colab-df-convert');\n",
              "        buttonEl.style.display =\n",
              "          google.colab.kernel.accessAllowed ? 'block' : 'none';\n",
              "\n",
              "        async function convertToInteractive(key) {\n",
              "          const element = document.querySelector('#df-12d038e2-7169-4ee6-9629-9c1b2e70818b');\n",
              "          const dataTable =\n",
              "            await google.colab.kernel.invokeFunction('convertToInteractive',\n",
              "                                                     [key], {});\n",
              "          if (!dataTable) return;\n",
              "\n",
              "          const docLinkHtml = 'Like what you see? Visit the ' +\n",
              "            '<a target=\"_blank\" href=https://colab.research.google.com/notebooks/data_table.ipynb>data table notebook</a>'\n",
              "            + ' to learn more about interactive tables.';\n",
              "          element.innerHTML = '';\n",
              "          dataTable['output_type'] = 'display_data';\n",
              "          await google.colab.output.renderOutput(dataTable, element);\n",
              "          const docLink = document.createElement('div');\n",
              "          docLink.innerHTML = docLinkHtml;\n",
              "          element.appendChild(docLink);\n",
              "        }\n",
              "      </script>\n",
              "    </div>\n",
              "  </div>\n",
              "  "
            ]
          },
          "metadata": {},
          "execution_count": 31
        }
      ],
      "source": [
        "# Snap of the testing news\n",
        "testing_news_sample.head()"
      ]
    },
    {
      "cell_type": "markdown",
      "metadata": {
        "id": "6KG8T4N4P7fD"
      },
      "source": [
        "## Data processing:\n",
        "\n",
        "1. Splitting X and y.\n",
        "2. Spliting the text into number of words and adding it to the dataset.\n",
        "3. Splitting into training and testing sets.\n",
        "4. Tokenizing the sets."
      ]
    },
    {
      "cell_type": "code",
      "execution_count": null,
      "metadata": {
        "id": "VdMMIwICP7fD"
      },
      "outputs": [],
      "source": [
        "# Splitting the data X & y - Original sample\n",
        "X = random_df[\"Text_Title_Merged\"]\n",
        "y = random_df[\"label\"]\n",
        "\n",
        "# Splitting the data X & y - Testing news\n",
        "X_1 = testing_news_sample[\"Text_Title_Merged\"]\n",
        "y_1 = testing_news_sample[\"label\"]"
      ]
    },
    {
      "cell_type": "code",
      "execution_count": null,
      "metadata": {
        "id": "GCgx74hAP7fD"
      },
      "outputs": [],
      "source": [
        "# Spliting the text into number of words and adding it to the dataset.\n",
        "# At this point, what we are doing is just to create a function that counts \n",
        "# the number of words in the specific row and adding it to the dataset.\n",
        "\n",
        "# Original sample\n",
        "random_df[\"Word_number\"] = random_df[\"Text_Title_Merged\"].apply(lambda x: len(x.split()))\n",
        "\n",
        "# Testing news\n",
        "testing_news_sample[\"Word_number\"] = testing_news_sample[\"Text_Title_Merged\"].apply(lambda x_1: len(x_1.split()))"
      ]
    },
    {
      "cell_type": "code",
      "execution_count": null,
      "metadata": {
        "colab": {
          "base_uri": "https://localhost:8080/",
          "height": 206
        },
        "id": "R5q13C3Kpa-X",
        "outputId": "197ff5d5-3f2d-407f-ca6d-d221083d5097"
      },
      "outputs": [
        {
          "output_type": "execute_result",
          "data": {
            "text/plain": [
              "                                                   title  \\\n",
              "54359  Live at Truthdig: Robert Scheer and Thomas Fra...   \n",
              "6993   The Mirage of a Return to Manufacturing Greatn...   \n",
              "28912  British PM expected to offer to fill post-Brex...   \n",
              "65965                                  Checkmating Obama   \n",
              "2307   Thirty-eight injured in police charges in Cata...   \n",
              "\n",
              "                                                    text  label  \\\n",
              "54359  Live at Truthdig: Robert Scheer and Thomas Fra...      1   \n",
              "6993   Half a century ago, harvesting California’s 2....      0   \n",
              "28912  (Reuters) - The British government has told Ge...      0   \n",
              "65965  Originally published by the Jerusalem Post . \\...      1   \n",
              "2307   MADRID (Reuters) - Emergency services have att...      0   \n",
              "\n",
              "                                       Text_Title_Merged  Word_number  \n",
              "54359  Live at Truthdig: Robert Scheer and Thomas Fra...          127  \n",
              "6993   The Mirage of a Return to Manufacturing Greatn...         1238  \n",
              "28912  British PM expected to offer to fill post-Brex...           85  \n",
              "65965  Checkmating Obama Originally published by the ...         1739  \n",
              "2307   Thirty-eight injured in police charges in Cata...           70  "
            ],
            "text/html": [
              "\n",
              "  <div id=\"df-2cf30302-ff44-4dfa-8485-4945a70768b3\">\n",
              "    <div class=\"colab-df-container\">\n",
              "      <div>\n",
              "<style scoped>\n",
              "    .dataframe tbody tr th:only-of-type {\n",
              "        vertical-align: middle;\n",
              "    }\n",
              "\n",
              "    .dataframe tbody tr th {\n",
              "        vertical-align: top;\n",
              "    }\n",
              "\n",
              "    .dataframe thead th {\n",
              "        text-align: right;\n",
              "    }\n",
              "</style>\n",
              "<table border=\"1\" class=\"dataframe\">\n",
              "  <thead>\n",
              "    <tr style=\"text-align: right;\">\n",
              "      <th></th>\n",
              "      <th>title</th>\n",
              "      <th>text</th>\n",
              "      <th>label</th>\n",
              "      <th>Text_Title_Merged</th>\n",
              "      <th>Word_number</th>\n",
              "    </tr>\n",
              "  </thead>\n",
              "  <tbody>\n",
              "    <tr>\n",
              "      <th>54359</th>\n",
              "      <td>Live at Truthdig: Robert Scheer and Thomas Fra...</td>\n",
              "      <td>Live at Truthdig: Robert Scheer and Thomas Fra...</td>\n",
              "      <td>1</td>\n",
              "      <td>Live at Truthdig: Robert Scheer and Thomas Fra...</td>\n",
              "      <td>127</td>\n",
              "    </tr>\n",
              "    <tr>\n",
              "      <th>6993</th>\n",
              "      <td>The Mirage of a Return to Manufacturing Greatn...</td>\n",
              "      <td>Half a century ago, harvesting California’s 2....</td>\n",
              "      <td>0</td>\n",
              "      <td>The Mirage of a Return to Manufacturing Greatn...</td>\n",
              "      <td>1238</td>\n",
              "    </tr>\n",
              "    <tr>\n",
              "      <th>28912</th>\n",
              "      <td>British PM expected to offer to fill post-Brex...</td>\n",
              "      <td>(Reuters) - The British government has told Ge...</td>\n",
              "      <td>0</td>\n",
              "      <td>British PM expected to offer to fill post-Brex...</td>\n",
              "      <td>85</td>\n",
              "    </tr>\n",
              "    <tr>\n",
              "      <th>65965</th>\n",
              "      <td>Checkmating Obama</td>\n",
              "      <td>Originally published by the Jerusalem Post . \\...</td>\n",
              "      <td>1</td>\n",
              "      <td>Checkmating Obama Originally published by the ...</td>\n",
              "      <td>1739</td>\n",
              "    </tr>\n",
              "    <tr>\n",
              "      <th>2307</th>\n",
              "      <td>Thirty-eight injured in police charges in Cata...</td>\n",
              "      <td>MADRID (Reuters) - Emergency services have att...</td>\n",
              "      <td>0</td>\n",
              "      <td>Thirty-eight injured in police charges in Cata...</td>\n",
              "      <td>70</td>\n",
              "    </tr>\n",
              "  </tbody>\n",
              "</table>\n",
              "</div>\n",
              "      <button class=\"colab-df-convert\" onclick=\"convertToInteractive('df-2cf30302-ff44-4dfa-8485-4945a70768b3')\"\n",
              "              title=\"Convert this dataframe to an interactive table.\"\n",
              "              style=\"display:none;\">\n",
              "        \n",
              "  <svg xmlns=\"http://www.w3.org/2000/svg\" height=\"24px\"viewBox=\"0 0 24 24\"\n",
              "       width=\"24px\">\n",
              "    <path d=\"M0 0h24v24H0V0z\" fill=\"none\"/>\n",
              "    <path d=\"M18.56 5.44l.94 2.06.94-2.06 2.06-.94-2.06-.94-.94-2.06-.94 2.06-2.06.94zm-11 1L8.5 8.5l.94-2.06 2.06-.94-2.06-.94L8.5 2.5l-.94 2.06-2.06.94zm10 10l.94 2.06.94-2.06 2.06-.94-2.06-.94-.94-2.06-.94 2.06-2.06.94z\"/><path d=\"M17.41 7.96l-1.37-1.37c-.4-.4-.92-.59-1.43-.59-.52 0-1.04.2-1.43.59L10.3 9.45l-7.72 7.72c-.78.78-.78 2.05 0 2.83L4 21.41c.39.39.9.59 1.41.59.51 0 1.02-.2 1.41-.59l7.78-7.78 2.81-2.81c.8-.78.8-2.07 0-2.86zM5.41 20L4 18.59l7.72-7.72 1.47 1.35L5.41 20z\"/>\n",
              "  </svg>\n",
              "      </button>\n",
              "      \n",
              "  <style>\n",
              "    .colab-df-container {\n",
              "      display:flex;\n",
              "      flex-wrap:wrap;\n",
              "      gap: 12px;\n",
              "    }\n",
              "\n",
              "    .colab-df-convert {\n",
              "      background-color: #E8F0FE;\n",
              "      border: none;\n",
              "      border-radius: 50%;\n",
              "      cursor: pointer;\n",
              "      display: none;\n",
              "      fill: #1967D2;\n",
              "      height: 32px;\n",
              "      padding: 0 0 0 0;\n",
              "      width: 32px;\n",
              "    }\n",
              "\n",
              "    .colab-df-convert:hover {\n",
              "      background-color: #E2EBFA;\n",
              "      box-shadow: 0px 1px 2px rgba(60, 64, 67, 0.3), 0px 1px 3px 1px rgba(60, 64, 67, 0.15);\n",
              "      fill: #174EA6;\n",
              "    }\n",
              "\n",
              "    [theme=dark] .colab-df-convert {\n",
              "      background-color: #3B4455;\n",
              "      fill: #D2E3FC;\n",
              "    }\n",
              "\n",
              "    [theme=dark] .colab-df-convert:hover {\n",
              "      background-color: #434B5C;\n",
              "      box-shadow: 0px 1px 3px 1px rgba(0, 0, 0, 0.15);\n",
              "      filter: drop-shadow(0px 1px 2px rgba(0, 0, 0, 0.3));\n",
              "      fill: #FFFFFF;\n",
              "    }\n",
              "  </style>\n",
              "\n",
              "      <script>\n",
              "        const buttonEl =\n",
              "          document.querySelector('#df-2cf30302-ff44-4dfa-8485-4945a70768b3 button.colab-df-convert');\n",
              "        buttonEl.style.display =\n",
              "          google.colab.kernel.accessAllowed ? 'block' : 'none';\n",
              "\n",
              "        async function convertToInteractive(key) {\n",
              "          const element = document.querySelector('#df-2cf30302-ff44-4dfa-8485-4945a70768b3');\n",
              "          const dataTable =\n",
              "            await google.colab.kernel.invokeFunction('convertToInteractive',\n",
              "                                                     [key], {});\n",
              "          if (!dataTable) return;\n",
              "\n",
              "          const docLinkHtml = 'Like what you see? Visit the ' +\n",
              "            '<a target=\"_blank\" href=https://colab.research.google.com/notebooks/data_table.ipynb>data table notebook</a>'\n",
              "            + ' to learn more about interactive tables.';\n",
              "          element.innerHTML = '';\n",
              "          dataTable['output_type'] = 'display_data';\n",
              "          await google.colab.output.renderOutput(dataTable, element);\n",
              "          const docLink = document.createElement('div');\n",
              "          docLink.innerHTML = docLinkHtml;\n",
              "          element.appendChild(docLink);\n",
              "        }\n",
              "      </script>\n",
              "    </div>\n",
              "  </div>\n",
              "  "
            ]
          },
          "metadata": {},
          "execution_count": 34
        }
      ],
      "source": [
        "# Checking new data set - Original dataset\n",
        "random_df.head()"
      ]
    },
    {
      "cell_type": "code",
      "execution_count": null,
      "metadata": {
        "colab": {
          "base_uri": "https://localhost:8080/",
          "height": 112
        },
        "id": "rzDGEc0ypa-X",
        "outputId": "9aadf567-4ffe-413f-9f38-509764fc1dad"
      },
      "outputs": [
        {
          "output_type": "execute_result",
          "data": {
            "text/plain": [
              "                                               title  \\\n",
              "0  Reptilians reveal themselves to world, denounc...   \n",
              "1  US to pay $6.5 million in lost wages owed to M...   \n",
              "\n",
              "                                                text  label  \\\n",
              "0  Last week, while billions were watching their ...      1   \n",
              "1  Some 13,000 Mexican migrant workers are owed $...      0   \n",
              "\n",
              "                                   Text_Title_Merged  Word_number  \n",
              "0  Reptilians reveal themselves to world, denounc...          438  \n",
              "1  US to pay $6.5 million in lost wages owed to M...          298  "
            ],
            "text/html": [
              "\n",
              "  <div id=\"df-3bfdcbff-641b-4004-8de2-1439b4792a67\">\n",
              "    <div class=\"colab-df-container\">\n",
              "      <div>\n",
              "<style scoped>\n",
              "    .dataframe tbody tr th:only-of-type {\n",
              "        vertical-align: middle;\n",
              "    }\n",
              "\n",
              "    .dataframe tbody tr th {\n",
              "        vertical-align: top;\n",
              "    }\n",
              "\n",
              "    .dataframe thead th {\n",
              "        text-align: right;\n",
              "    }\n",
              "</style>\n",
              "<table border=\"1\" class=\"dataframe\">\n",
              "  <thead>\n",
              "    <tr style=\"text-align: right;\">\n",
              "      <th></th>\n",
              "      <th>title</th>\n",
              "      <th>text</th>\n",
              "      <th>label</th>\n",
              "      <th>Text_Title_Merged</th>\n",
              "      <th>Word_number</th>\n",
              "    </tr>\n",
              "  </thead>\n",
              "  <tbody>\n",
              "    <tr>\n",
              "      <th>0</th>\n",
              "      <td>Reptilians reveal themselves to world, denounc...</td>\n",
              "      <td>Last week, while billions were watching their ...</td>\n",
              "      <td>1</td>\n",
              "      <td>Reptilians reveal themselves to world, denounc...</td>\n",
              "      <td>438</td>\n",
              "    </tr>\n",
              "    <tr>\n",
              "      <th>1</th>\n",
              "      <td>US to pay $6.5 million in lost wages owed to M...</td>\n",
              "      <td>Some 13,000 Mexican migrant workers are owed $...</td>\n",
              "      <td>0</td>\n",
              "      <td>US to pay $6.5 million in lost wages owed to M...</td>\n",
              "      <td>298</td>\n",
              "    </tr>\n",
              "  </tbody>\n",
              "</table>\n",
              "</div>\n",
              "      <button class=\"colab-df-convert\" onclick=\"convertToInteractive('df-3bfdcbff-641b-4004-8de2-1439b4792a67')\"\n",
              "              title=\"Convert this dataframe to an interactive table.\"\n",
              "              style=\"display:none;\">\n",
              "        \n",
              "  <svg xmlns=\"http://www.w3.org/2000/svg\" height=\"24px\"viewBox=\"0 0 24 24\"\n",
              "       width=\"24px\">\n",
              "    <path d=\"M0 0h24v24H0V0z\" fill=\"none\"/>\n",
              "    <path d=\"M18.56 5.44l.94 2.06.94-2.06 2.06-.94-2.06-.94-.94-2.06-.94 2.06-2.06.94zm-11 1L8.5 8.5l.94-2.06 2.06-.94-2.06-.94L8.5 2.5l-.94 2.06-2.06.94zm10 10l.94 2.06.94-2.06 2.06-.94-2.06-.94-.94-2.06-.94 2.06-2.06.94z\"/><path d=\"M17.41 7.96l-1.37-1.37c-.4-.4-.92-.59-1.43-.59-.52 0-1.04.2-1.43.59L10.3 9.45l-7.72 7.72c-.78.78-.78 2.05 0 2.83L4 21.41c.39.39.9.59 1.41.59.51 0 1.02-.2 1.41-.59l7.78-7.78 2.81-2.81c.8-.78.8-2.07 0-2.86zM5.41 20L4 18.59l7.72-7.72 1.47 1.35L5.41 20z\"/>\n",
              "  </svg>\n",
              "      </button>\n",
              "      \n",
              "  <style>\n",
              "    .colab-df-container {\n",
              "      display:flex;\n",
              "      flex-wrap:wrap;\n",
              "      gap: 12px;\n",
              "    }\n",
              "\n",
              "    .colab-df-convert {\n",
              "      background-color: #E8F0FE;\n",
              "      border: none;\n",
              "      border-radius: 50%;\n",
              "      cursor: pointer;\n",
              "      display: none;\n",
              "      fill: #1967D2;\n",
              "      height: 32px;\n",
              "      padding: 0 0 0 0;\n",
              "      width: 32px;\n",
              "    }\n",
              "\n",
              "    .colab-df-convert:hover {\n",
              "      background-color: #E2EBFA;\n",
              "      box-shadow: 0px 1px 2px rgba(60, 64, 67, 0.3), 0px 1px 3px 1px rgba(60, 64, 67, 0.15);\n",
              "      fill: #174EA6;\n",
              "    }\n",
              "\n",
              "    [theme=dark] .colab-df-convert {\n",
              "      background-color: #3B4455;\n",
              "      fill: #D2E3FC;\n",
              "    }\n",
              "\n",
              "    [theme=dark] .colab-df-convert:hover {\n",
              "      background-color: #434B5C;\n",
              "      box-shadow: 0px 1px 3px 1px rgba(0, 0, 0, 0.15);\n",
              "      filter: drop-shadow(0px 1px 2px rgba(0, 0, 0, 0.3));\n",
              "      fill: #FFFFFF;\n",
              "    }\n",
              "  </style>\n",
              "\n",
              "      <script>\n",
              "        const buttonEl =\n",
              "          document.querySelector('#df-3bfdcbff-641b-4004-8de2-1439b4792a67 button.colab-df-convert');\n",
              "        buttonEl.style.display =\n",
              "          google.colab.kernel.accessAllowed ? 'block' : 'none';\n",
              "\n",
              "        async function convertToInteractive(key) {\n",
              "          const element = document.querySelector('#df-3bfdcbff-641b-4004-8de2-1439b4792a67');\n",
              "          const dataTable =\n",
              "            await google.colab.kernel.invokeFunction('convertToInteractive',\n",
              "                                                     [key], {});\n",
              "          if (!dataTable) return;\n",
              "\n",
              "          const docLinkHtml = 'Like what you see? Visit the ' +\n",
              "            '<a target=\"_blank\" href=https://colab.research.google.com/notebooks/data_table.ipynb>data table notebook</a>'\n",
              "            + ' to learn more about interactive tables.';\n",
              "          element.innerHTML = '';\n",
              "          dataTable['output_type'] = 'display_data';\n",
              "          await google.colab.output.renderOutput(dataTable, element);\n",
              "          const docLink = document.createElement('div');\n",
              "          docLink.innerHTML = docLinkHtml;\n",
              "          element.appendChild(docLink);\n",
              "        }\n",
              "      </script>\n",
              "    </div>\n",
              "  </div>\n",
              "  "
            ]
          },
          "metadata": {},
          "execution_count": 35
        }
      ],
      "source": [
        "# Checking new data set - Testing dataset\n",
        "testing_news_sample.head()"
      ]
    },
    {
      "cell_type": "code",
      "execution_count": null,
      "metadata": {
        "id": "egd1JwRpP7fE"
      },
      "outputs": [],
      "source": [
        "# Splitting into training and testing sets.\n",
        "\n",
        "# Stratify: When we have a classification problem, the stratify parameter ensures that the proportion of target classes in \n",
        "# the dataset is maintained in both the training and testing sets. This is important because it helps to avoid \n",
        "# bias in the evaluation of the model's performance.\n",
        "# We apply this always in the targe variable.\n",
        "\n",
        "X_train, X_test, y_train, y_test = train_test_split(X, y, random_state = 42, test_size =0.20, stratify=y)"
      ]
    },
    {
      "cell_type": "code",
      "execution_count": null,
      "metadata": {
        "colab": {
          "base_uri": "https://localhost:8080/"
        },
        "id": "fPurFLt2pa-Y",
        "outputId": "f7e2215d-d5ad-49b8-c6c1-ad0dd2c1b672"
      },
      "outputs": [
        {
          "output_type": "execute_result",
          "data": {
            "text/plain": [
              "54498    This smart, harmless pesticide patent could ta...\n",
              "14065    NFL PLAYER Delivers Courageous Message: Stop B...\n",
              "571      Silent But Deadly - Russia Developing Devastat...\n",
              "37843    Trump Aides Address His Wiretap Claims: ‘That’...\n",
              "20554     Two Major Breaking Allegations Against Michae...\n",
              "                               ...                        \n",
              "37691    Russia rejects lawsuit to learn fate of Swedis...\n",
              "51793    Neal Katyal at 9th Circuit: If Trump Says ’Isl...\n",
              "14188    UNIVERSITY PRESIDENT APOLOGIZES TO TRAUMATIZED...\n",
              "66528    German ex-rightist jailed for plotting Islamis...\n",
              "26973    Raghuram Rajan, India’s Departing Central Bank...\n",
              "Name: Text_Title_Merged, Length: 400, dtype: object"
            ]
          },
          "metadata": {},
          "execution_count": 37
        }
      ],
      "source": [
        "X_test"
      ]
    },
    {
      "cell_type": "code",
      "execution_count": null,
      "metadata": {
        "id": "0LAIq33OP7fE",
        "outputId": "4fbdfa7d-d8bc-4b82-bfa8-991c6c00eee0",
        "colab": {
          "base_uri": "https://localhost:8080/"
        }
      },
      "outputs": [
        {
          "output_type": "execute_result",
          "data": {
            "text/plain": [
              "44515"
            ]
          },
          "metadata": {},
          "execution_count": 38
        }
      ],
      "source": [
        "# Tokenizing the sets.\n",
        "\n",
        "# Creating the object (instantiating)\n",
        "token = Tokenizer()\n",
        "\n",
        "# The fit_on_texts method takes a list of strings as its input, where each string represents a document in the corpus.\n",
        "token.fit_on_texts(X_train)\n",
        "\n",
        "# Parsing the words into a list of integers representing the words in the corresponding text.\n",
        "sequence_train = token.texts_to_sequences(X_train)\n",
        "sequence_test = token.texts_to_sequences(X_test)\n",
        "news_sequence = token.texts_to_sequences(X_1)\n",
        "\n",
        "# Using word_index, you will have the words into a dictionary\n",
        "# That's to say, it returns a dictionary that maps each unique word in the corpus to a unique integer.\n",
        "\n",
        "word_size = len(token.word_index) + 1\n",
        "word_size"
      ]
    },
    {
      "cell_type": "code",
      "execution_count": null,
      "metadata": {
        "id": "HqkHDJrtpa-Y"
      },
      "outputs": [],
      "source": [
        "# sequence_test"
      ]
    },
    {
      "cell_type": "markdown",
      "metadata": {
        "id": "qKFbAxcNP7fE"
      },
      "source": [
        "### Reference to tune the model: \n",
        "https://medium.com/analytics-vidhya/understanding-nlp-keras-tokenizer-class-arguments-with-example-551c100f0cbd#:~:text=num_words%20is%20nothing%20but%20your,word_index)%20%2B%201%22."
      ]
    },
    {
      "cell_type": "markdown",
      "metadata": {
        "id": "JtVsxtaMP7fE"
      },
      "source": [
        "## Testing the neuronal network\n",
        "\n",
        "1. Importing keras and pad_sequences\n",
        "2. importing tensorflow and keras layers\n",
        "3. compile the model\n",
        "4. Train the model with keras\n",
        "5. Checking the accuracy\n",
        "    * Upload the testing data \n",
        "6. Confusion matrix y_hat vs y_test"
      ]
    },
    {
      "cell_type": "markdown",
      "metadata": {
        "id": "9hR0j2P9P7fE"
      },
      "source": [
        "Def: In Keras, the pad_sequences function is used to pad sequences to a specific length. Padding sequences can be useful when working with sequences of variable lengths, such as text data or time series data: \n",
        "\n",
        "from keras.utils.data_utils import pad_sequences"
      ]
    },
    {
      "cell_type": "code",
      "execution_count": null,
      "metadata": {
        "id": "6oMqODgxP7fE"
      },
      "outputs": [],
      "source": [
        "# Importing keras and pad_sequences:\n",
        "# Now we are preparing the neuronal network by padding the sequence of numbers we tokenized before:\n",
        "\n",
        "# Instead of creating the \"largo\" variable, I set the number directly\n",
        "length = 500\n",
        "seq_train = pad_sequences(sequence_train, maxlen = length)\n",
        "seq_test = pad_sequences(sequence_test, maxlen = length)\n",
        "seq_news = pad_sequences(news_sequence, maxlen = length)"
      ]
    },
    {
      "cell_type": "code",
      "execution_count": null,
      "metadata": {
        "id": "C-GOBs-HP7fE",
        "outputId": "a531c14f-e687-44ae-ef1d-2dfe98b41245",
        "colab": {
          "base_uri": "https://localhost:8080/"
        }
      },
      "outputs": [
        {
          "output_type": "execute_result",
          "data": {
            "text/plain": [
              "numpy.ndarray"
            ]
          },
          "metadata": {},
          "execution_count": 41
        }
      ],
      "source": [
        "# Now we have and array of the sequences apiece:\n",
        "seq_test\n",
        "type(seq_test)"
      ]
    },
    {
      "cell_type": "code",
      "execution_count": null,
      "metadata": {
        "id": "sSHvQl8BP7fE",
        "outputId": "df27a238-3239-4b76-cd55-5585ff667625",
        "colab": {
          "base_uri": "https://localhost:8080/"
        }
      },
      "outputs": [
        {
          "output_type": "execute_result",
          "data": {
            "text/plain": [
              "array([[12568,  3197,    17, ..., 23998, 23999,  3199],\n",
              "       [    0,     0,     0, ...,   447,    10,   262],\n",
              "       [  339,     3, 12589, ...,  1469,    63,  1453],\n",
              "       ...,\n",
              "       [    0,     0,     0, ...,  5195,  1223,   853],\n",
              "       [23937,  2340,  1942, ...,   451,  2904,  1010],\n",
              "       [  621,    28,     1, ...,     9,  9493,    19]], dtype=int32)"
            ]
          },
          "metadata": {},
          "execution_count": 42
        }
      ],
      "source": [
        "seq_train"
      ]
    },
    {
      "cell_type": "markdown",
      "metadata": {
        "id": "X4xfWgbfP7fF"
      },
      "source": [
        "Long Short-Term Memory (LSTM): In Keras, the Long Short-Term Memory (LSTM) layer is a type of recurrent neural network (RNN) layer that is often used for sequence modeling tasks such as language modeling, speech recognition, and time series forecasting\n",
        "\n",
        "Embedding: In Keras, an embedding layer is used to represent words or categorical variables as continuous vectors in a high-dimensional space. This is often useful in natural language processing tasks such as text classification, language modeling, and machine translation.\n",
        "\n",
        "Dropout: In Keras, the Dropout layer is a regularization technique that is often used in neural networks to prevent overfitting. The Dropout layer randomly sets a fraction of the input units to 0 at each update during training time, which can help prevent the model from relying too heavily on any one input feature.\n",
        "\n",
        "Dense: A Dense layer represents a fully connected layer, in which every neuron in the layer is connected to every neuron in the previous layer. The output of a Dense layer is obtained by applying a linear transformation followed by a non-linear activation function."
      ]
    },
    {
      "cell_type": "code",
      "execution_count": null,
      "metadata": {
        "id": "A36OgJsEP7fF"
      },
      "outputs": [],
      "source": [
        "# Importing tensorflow and keras layers\n",
        "# Applying the model to the network\n",
        "\n",
        "model = tf.keras.Sequential([\n",
        " \n",
        "    Input(name = \"input\", shape = [length]), \n",
        "    Embedding(len(token.word_index)+1, 128), \n",
        "    Bidirectional(tf.keras.layers.LSTM(128, return_sequences = True)), \n",
        "    Bidirectional(tf.keras.layers.LSTM(64)), \n",
        "    Dense(64, activation = \"relu\"), \n",
        "    Dropout(0.5), \n",
        "    Dense(1, activation = \"sigmoid\"),\n",
        "    keras.layers.Dense(2, activation=tf.nn.softmax)\n",
        "#     Dense(3, activation=tf.nn.softmax)\n",
        "    \n",
        "])"
      ]
    },
    {
      "cell_type": "code",
      "execution_count": null,
      "metadata": {
        "id": "g-7KsCJQP7fF"
      },
      "outputs": [],
      "source": [
        "# Compile the model:\n",
        "\n",
        "model.compile(loss = tf.keras.losses.BinaryCrossentropy(), \n",
        "              optimizer = tf.keras.optimizers.Adam(1e-4), \n",
        "              metrics = [\"accuracy\"])"
      ]
    },
    {
      "cell_type": "code",
      "execution_count": null,
      "metadata": {
        "id": "kYbxPAIuP7fF",
        "outputId": "6f1b4215-cd46-4703-ec7d-830518724970",
        "colab": {
          "base_uri": "https://localhost:8080/",
          "height": 758
        }
      },
      "outputs": [
        {
          "output_type": "execute_result",
          "data": {
            "image/png": "[encoded data removed]",
            "text/plain": [
              "<IPython.core.display.Image object>"
            ]
          },
          "metadata": {},
          "execution_count": 45
        }
      ],
      "source": [
        "# Printing the model architechture:\n",
        "tf.keras.utils.plot_model(model)"
      ]
    },
    {
      "cell_type": "code",
      "execution_count": null,
      "metadata": {
        "id": "8CkDKSjeP7fF",
        "outputId": "7dcc3b47-c16d-49bc-8c89-1e30c021d3a2",
        "colab": {
          "base_uri": "https://localhost:8080/"
        }
      },
      "outputs": [
        {
          "output_type": "stream",
          "name": "stdout",
          "text": [
            "Epoch 1/5\n",
            "20/20 [==============================] - 140s 6s/step - loss: 0.6965 - accuracy: 0.5070 - val_loss: 0.6961 - val_accuracy: 0.4531\n",
            "Epoch 2/5\n",
            "20/20 [==============================] - 115s 6s/step - loss: 0.6956 - accuracy: 0.5070 - val_loss: 0.6950 - val_accuracy: 0.4531\n",
            "Epoch 3/5\n",
            "20/20 [==============================] - 115s 6s/step - loss: 0.6943 - accuracy: 0.5078 - val_loss: 0.6935 - val_accuracy: 0.4531\n",
            "Epoch 4/5\n",
            "20/20 [==============================] - 116s 6s/step - loss: 0.6932 - accuracy: 0.5023 - val_loss: 0.6932 - val_accuracy: 0.5469\n",
            "Epoch 5/5\n",
            "20/20 [==============================] - 112s 6s/step - loss: 0.6932 - accuracy: 0.4875 - val_loss: 0.6932 - val_accuracy: 0.5469\n"
          ]
        }
      ],
      "source": [
        "# Train the model with keras:\n",
        "\n",
        "history = model.fit(seq_train, y_train, \n",
        "    epochs=5,\n",
        "    validation_split = 0.2, \n",
        "    batch_size = 64,\n",
        "    callbacks=[EarlyStopping(monitor='val_accuracy',mode='max',\n",
        "                             patience=3, verbose=False,restore_best_weights=True)])"
      ]
    },
    {
      "cell_type": "code",
      "execution_count": null,
      "metadata": {
        "colab": {
          "base_uri": "https://localhost:8080/"
        },
        "id": "IiR4Spp6pa-a",
        "outputId": "0b23b444-8324-4919-f15d-94ec61d20fe1"
      },
      "outputs": [
        {
          "output_type": "stream",
          "name": "stdout",
          "text": [
            "Model: \"sequential\"\n",
            "_________________________________________________________________\n",
            " Layer (type)                Output Shape              Param #   \n",
            "=================================================================\n",
            " embedding (Embedding)       (None, 500, 128)          5697920   \n",
            "                                                                 \n",
            " bidirectional (Bidirectiona  (None, 500, 256)         263168    \n",
            " l)                                                              \n",
            "                                                                 \n",
            " bidirectional_1 (Bidirectio  (None, 128)              164352    \n",
            " nal)                                                            \n",
            "                                                                 \n",
            " dense (Dense)               (None, 64)                8256      \n",
            "                                                                 \n",
            " dropout (Dropout)           (None, 64)                0         \n",
            "                                                                 \n",
            " dense_1 (Dense)             (None, 1)                 65        \n",
            "                                                                 \n",
            " dense_2 (Dense)             (None, 2)                 4         \n",
            "                                                                 \n",
            "=================================================================\n",
            "Total params: 6,133,765\n",
            "Trainable params: 6,133,765\n",
            "Non-trainable params: 0\n",
            "_________________________________________________________________\n"
          ]
        }
      ],
      "source": [
        "# Summary\n",
        "model.summary()"
      ]
    },
    {
      "cell_type": "code",
      "execution_count": null,
      "metadata": {
        "id": "YFODfJr1P7fF",
        "colab": {
          "base_uri": "https://localhost:8080/"
        },
        "outputId": "4457f226-bcbd-4344-a263-8c68bbe3df97"
      },
      "outputs": [
        {
          "output_type": "stream",
          "name": "stdout",
          "text": [
            "1/1 [==============================] - 3s 3s/step - loss: 0.6932 - accuracy: 0.5000\n",
            "13/13 [==============================] - 15s 1s/step\n",
            "The model is giving us a loss of : 69.32%\n",
            "On the other hand, it gives us an accuracy of: 50.0%\n"
          ]
        }
      ],
      "source": [
        "# Checking the accuracy/Evaluating the model\n",
        "\n",
        "test_loss, test_acc = model.evaluate(seq_news, y_1)\n",
        "y_hat = model.predict(seq_test)\n",
        "\n",
        "# Printing the results:\n",
        "\n",
        "print(f\"The model is giving us a loss of : {np.around(test_loss*100, 2)}%\")\n",
        "print(f\"On the other hand, it gives us an accuracy of: {np.around(test_acc*100, 2)}%\")\n"
      ]
    },
    {
      "cell_type": "code",
      "execution_count": null,
      "metadata": {
        "colab": {
          "base_uri": "https://localhost:8080/"
        },
        "id": "WOmHjq0opa-a",
        "outputId": "4cdd213d-3125-4808-d141-3260bf86f25b"
      },
      "outputs": [
        {
          "output_type": "stream",
          "name": "stdout",
          "text": [
            "y_test: <class 'pandas.core.series.Series'>\n",
            "\n",
            "y_hat: <class 'numpy.ndarray'>\n"
          ]
        }
      ],
      "source": [
        "print(f\"y_test: {type(y_test)}\\n\\ny_hat: {type(y_hat)}\")"
      ]
    },
    {
      "cell_type": "code",
      "execution_count": null,
      "metadata": {
        "colab": {
          "base_uri": "https://localhost:8080/",
          "height": 423
        },
        "id": "40C_ATDfpa-a",
        "outputId": "993f9319-c74b-4fb5-c4e1-74de6490696c"
      },
      "outputs": [
        {
          "output_type": "execute_result",
          "data": {
            "text/plain": [
              "        col_1     col_2\n",
              "0    0.498073  0.501927\n",
              "1    0.497866  0.502134\n",
              "2    0.498033  0.501967\n",
              "3    0.498005  0.501995\n",
              "4    0.497873  0.502127\n",
              "..        ...       ...\n",
              "395  0.497935  0.502065\n",
              "396  0.497998  0.502002\n",
              "397  0.498056  0.501944\n",
              "398  0.497865  0.502135\n",
              "399  0.498042  0.501958\n",
              "\n",
              "[400 rows x 2 columns]"
            ],
            "text/html": [
              "\n",
              "  <div id=\"df-b1c8ed82-f740-4025-aaa8-70c3e7db0234\">\n",
              "    <div class=\"colab-df-container\">\n",
              "      <div>\n",
              "<style scoped>\n",
              "    .dataframe tbody tr th:only-of-type {\n",
              "        vertical-align: middle;\n",
              "    }\n",
              "\n",
              "    .dataframe tbody tr th {\n",
              "        vertical-align: top;\n",
              "    }\n",
              "\n",
              "    .dataframe thead th {\n",
              "        text-align: right;\n",
              "    }\n",
              "</style>\n",
              "<table border=\"1\" class=\"dataframe\">\n",
              "  <thead>\n",
              "    <tr style=\"text-align: right;\">\n",
              "      <th></th>\n",
              "      <th>col_1</th>\n",
              "      <th>col_2</th>\n",
              "    </tr>\n",
              "  </thead>\n",
              "  <tbody>\n",
              "    <tr>\n",
              "      <th>0</th>\n",
              "      <td>0.498073</td>\n",
              "      <td>0.501927</td>\n",
              "    </tr>\n",
              "    <tr>\n",
              "      <th>1</th>\n",
              "      <td>0.497866</td>\n",
              "      <td>0.502134</td>\n",
              "    </tr>\n",
              "    <tr>\n",
              "      <th>2</th>\n",
              "      <td>0.498033</td>\n",
              "      <td>0.501967</td>\n",
              "    </tr>\n",
              "    <tr>\n",
              "      <th>3</th>\n",
              "      <td>0.498005</td>\n",
              "      <td>0.501995</td>\n",
              "    </tr>\n",
              "    <tr>\n",
              "      <th>4</th>\n",
              "      <td>0.497873</td>\n",
              "      <td>0.502127</td>\n",
              "    </tr>\n",
              "    <tr>\n",
              "      <th>...</th>\n",
              "      <td>...</td>\n",
              "      <td>...</td>\n",
              "    </tr>\n",
              "    <tr>\n",
              "      <th>395</th>\n",
              "      <td>0.497935</td>\n",
              "      <td>0.502065</td>\n",
              "    </tr>\n",
              "    <tr>\n",
              "      <th>396</th>\n",
              "      <td>0.497998</td>\n",
              "      <td>0.502002</td>\n",
              "    </tr>\n",
              "    <tr>\n",
              "      <th>397</th>\n",
              "      <td>0.498056</td>\n",
              "      <td>0.501944</td>\n",
              "    </tr>\n",
              "    <tr>\n",
              "      <th>398</th>\n",
              "      <td>0.497865</td>\n",
              "      <td>0.502135</td>\n",
              "    </tr>\n",
              "    <tr>\n",
              "      <th>399</th>\n",
              "      <td>0.498042</td>\n",
              "      <td>0.501958</td>\n",
              "    </tr>\n",
              "  </tbody>\n",
              "</table>\n",
              "<p>400 rows × 2 columns</p>\n",
              "</div>\n",
              "      <button class=\"colab-df-convert\" onclick=\"convertToInteractive('df-b1c8ed82-f740-4025-aaa8-70c3e7db0234')\"\n",
              "              title=\"Convert this dataframe to an interactive table.\"\n",
              "              style=\"display:none;\">\n",
              "        \n",
              "  <svg xmlns=\"http://www.w3.org/2000/svg\" height=\"24px\"viewBox=\"0 0 24 24\"\n",
              "       width=\"24px\">\n",
              "    <path d=\"M0 0h24v24H0V0z\" fill=\"none\"/>\n",
              "    <path d=\"M18.56 5.44l.94 2.06.94-2.06 2.06-.94-2.06-.94-.94-2.06-.94 2.06-2.06.94zm-11 1L8.5 8.5l.94-2.06 2.06-.94-2.06-.94L8.5 2.5l-.94 2.06-2.06.94zm10 10l.94 2.06.94-2.06 2.06-.94-2.06-.94-.94-2.06-.94 2.06-2.06.94z\"/><path d=\"M17.41 7.96l-1.37-1.37c-.4-.4-.92-.59-1.43-.59-.52 0-1.04.2-1.43.59L10.3 9.45l-7.72 7.72c-.78.78-.78 2.05 0 2.83L4 21.41c.39.39.9.59 1.41.59.51 0 1.02-.2 1.41-.59l7.78-7.78 2.81-2.81c.8-.78.8-2.07 0-2.86zM5.41 20L4 18.59l7.72-7.72 1.47 1.35L5.41 20z\"/>\n",
              "  </svg>\n",
              "      </button>\n",
              "      \n",
              "  <style>\n",
              "    .colab-df-container {\n",
              "      display:flex;\n",
              "      flex-wrap:wrap;\n",
              "      gap: 12px;\n",
              "    }\n",
              "\n",
              "    .colab-df-convert {\n",
              "      background-color: #E8F0FE;\n",
              "      border: none;\n",
              "      border-radius: 50%;\n",
              "      cursor: pointer;\n",
              "      display: none;\n",
              "      fill: #1967D2;\n",
              "      height: 32px;\n",
              "      padding: 0 0 0 0;\n",
              "      width: 32px;\n",
              "    }\n",
              "\n",
              "    .colab-df-convert:hover {\n",
              "      background-color: #E2EBFA;\n",
              "      box-shadow: 0px 1px 2px rgba(60, 64, 67, 0.3), 0px 1px 3px 1px rgba(60, 64, 67, 0.15);\n",
              "      fill: #174EA6;\n",
              "    }\n",
              "\n",
              "    [theme=dark] .colab-df-convert {\n",
              "      background-color: #3B4455;\n",
              "      fill: #D2E3FC;\n",
              "    }\n",
              "\n",
              "    [theme=dark] .colab-df-convert:hover {\n",
              "      background-color: #434B5C;\n",
              "      box-shadow: 0px 1px 3px 1px rgba(0, 0, 0, 0.15);\n",
              "      filter: drop-shadow(0px 1px 2px rgba(0, 0, 0, 0.3));\n",
              "      fill: #FFFFFF;\n",
              "    }\n",
              "  </style>\n",
              "\n",
              "      <script>\n",
              "        const buttonEl =\n",
              "          document.querySelector('#df-b1c8ed82-f740-4025-aaa8-70c3e7db0234 button.colab-df-convert');\n",
              "        buttonEl.style.display =\n",
              "          google.colab.kernel.accessAllowed ? 'block' : 'none';\n",
              "\n",
              "        async function convertToInteractive(key) {\n",
              "          const element = document.querySelector('#df-b1c8ed82-f740-4025-aaa8-70c3e7db0234');\n",
              "          const dataTable =\n",
              "            await google.colab.kernel.invokeFunction('convertToInteractive',\n",
              "                                                     [key], {});\n",
              "          if (!dataTable) return;\n",
              "\n",
              "          const docLinkHtml = 'Like what you see? Visit the ' +\n",
              "            '<a target=\"_blank\" href=https://colab.research.google.com/notebooks/data_table.ipynb>data table notebook</a>'\n",
              "            + ' to learn more about interactive tables.';\n",
              "          element.innerHTML = '';\n",
              "          dataTable['output_type'] = 'display_data';\n",
              "          await google.colab.output.renderOutput(dataTable, element);\n",
              "          const docLink = document.createElement('div');\n",
              "          docLink.innerHTML = docLinkHtml;\n",
              "          element.appendChild(docLink);\n",
              "        }\n",
              "      </script>\n",
              "    </div>\n",
              "  </div>\n",
              "  "
            ]
          },
          "metadata": {},
          "execution_count": 50
        }
      ],
      "source": [
        "datos = pd.DataFrame(y_hat, columns=[\"col_1\", \"col_2\"])\n",
        "# datos = pd.DataFrame(y_hat)\n",
        "datos"
      ]
    },
    {
      "cell_type": "code",
      "execution_count": null,
      "metadata": {
        "colab": {
          "base_uri": "https://localhost:8080/"
        },
        "id": "I-HsOJz7pa-a",
        "outputId": "c3000a58-202e-4c09-82a4-3e43e93d05b7"
      },
      "outputs": [
        {
          "output_type": "execute_result",
          "data": {
            "text/plain": [
              "54498    1\n",
              "14065    1\n",
              "571      1\n",
              "37843    0\n",
              "20554    1\n",
              "        ..\n",
              "37691    0\n",
              "51793    0\n",
              "14188    1\n",
              "66528    0\n",
              "26973    0\n",
              "Name: label, Length: 400, dtype: int64"
            ]
          },
          "metadata": {},
          "execution_count": 51
        }
      ],
      "source": [
        "y_test"
      ]
    },
    {
      "cell_type": "code",
      "execution_count": null,
      "metadata": {
        "colab": {
          "base_uri": "https://localhost:8080/",
          "height": 423
        },
        "id": "-3S8d1Hbpa-b",
        "outputId": "737c8472-57e6-4905-8497-03564c6425a1"
      },
      "outputs": [
        {
          "output_type": "execute_result",
          "data": {
            "text/plain": [
              "        col_1     col_2  target\n",
              "0    0.498073  0.501927       1\n",
              "1    0.497866  0.502134       1\n",
              "2    0.498033  0.501967       1\n",
              "3    0.498005  0.501995       0\n",
              "4    0.497873  0.502127       1\n",
              "..        ...       ...     ...\n",
              "395  0.497935  0.502065       0\n",
              "396  0.497998  0.502002       0\n",
              "397  0.498056  0.501944       1\n",
              "398  0.497865  0.502135       0\n",
              "399  0.498042  0.501958       0\n",
              "\n",
              "[400 rows x 3 columns]"
            ],
            "text/html": [
              "\n",
              "  <div id=\"df-3ac9821d-90de-4022-9d61-8b5fc2d35275\">\n",
              "    <div class=\"colab-df-container\">\n",
              "      <div>\n",
              "<style scoped>\n",
              "    .dataframe tbody tr th:only-of-type {\n",
              "        vertical-align: middle;\n",
              "    }\n",
              "\n",
              "    .dataframe tbody tr th {\n",
              "        vertical-align: top;\n",
              "    }\n",
              "\n",
              "    .dataframe thead th {\n",
              "        text-align: right;\n",
              "    }\n",
              "</style>\n",
              "<table border=\"1\" class=\"dataframe\">\n",
              "  <thead>\n",
              "    <tr style=\"text-align: right;\">\n",
              "      <th></th>\n",
              "      <th>col_1</th>\n",
              "      <th>col_2</th>\n",
              "      <th>target</th>\n",
              "    </tr>\n",
              "  </thead>\n",
              "  <tbody>\n",
              "    <tr>\n",
              "      <th>0</th>\n",
              "      <td>0.498073</td>\n",
              "      <td>0.501927</td>\n",
              "      <td>1</td>\n",
              "    </tr>\n",
              "    <tr>\n",
              "      <th>1</th>\n",
              "      <td>0.497866</td>\n",
              "      <td>0.502134</td>\n",
              "      <td>1</td>\n",
              "    </tr>\n",
              "    <tr>\n",
              "      <th>2</th>\n",
              "      <td>0.498033</td>\n",
              "      <td>0.501967</td>\n",
              "      <td>1</td>\n",
              "    </tr>\n",
              "    <tr>\n",
              "      <th>3</th>\n",
              "      <td>0.498005</td>\n",
              "      <td>0.501995</td>\n",
              "      <td>0</td>\n",
              "    </tr>\n",
              "    <tr>\n",
              "      <th>4</th>\n",
              "      <td>0.497873</td>\n",
              "      <td>0.502127</td>\n",
              "      <td>1</td>\n",
              "    </tr>\n",
              "    <tr>\n",
              "      <th>...</th>\n",
              "      <td>...</td>\n",
              "      <td>...</td>\n",
              "      <td>...</td>\n",
              "    </tr>\n",
              "    <tr>\n",
              "      <th>395</th>\n",
              "      <td>0.497935</td>\n",
              "      <td>0.502065</td>\n",
              "      <td>0</td>\n",
              "    </tr>\n",
              "    <tr>\n",
              "      <th>396</th>\n",
              "      <td>0.497998</td>\n",
              "      <td>0.502002</td>\n",
              "      <td>0</td>\n",
              "    </tr>\n",
              "    <tr>\n",
              "      <th>397</th>\n",
              "      <td>0.498056</td>\n",
              "      <td>0.501944</td>\n",
              "      <td>1</td>\n",
              "    </tr>\n",
              "    <tr>\n",
              "      <th>398</th>\n",
              "      <td>0.497865</td>\n",
              "      <td>0.502135</td>\n",
              "      <td>0</td>\n",
              "    </tr>\n",
              "    <tr>\n",
              "      <th>399</th>\n",
              "      <td>0.498042</td>\n",
              "      <td>0.501958</td>\n",
              "      <td>0</td>\n",
              "    </tr>\n",
              "  </tbody>\n",
              "</table>\n",
              "<p>400 rows × 3 columns</p>\n",
              "</div>\n",
              "      <button class=\"colab-df-convert\" onclick=\"convertToInteractive('df-3ac9821d-90de-4022-9d61-8b5fc2d35275')\"\n",
              "              title=\"Convert this dataframe to an interactive table.\"\n",
              "              style=\"display:none;\">\n",
              "        \n",
              "  <svg xmlns=\"http://www.w3.org/2000/svg\" height=\"24px\"viewBox=\"0 0 24 24\"\n",
              "       width=\"24px\">\n",
              "    <path d=\"M0 0h24v24H0V0z\" fill=\"none\"/>\n",
              "    <path d=\"M18.56 5.44l.94 2.06.94-2.06 2.06-.94-2.06-.94-.94-2.06-.94 2.06-2.06.94zm-11 1L8.5 8.5l.94-2.06 2.06-.94-2.06-.94L8.5 2.5l-.94 2.06-2.06.94zm10 10l.94 2.06.94-2.06 2.06-.94-2.06-.94-.94-2.06-.94 2.06-2.06.94z\"/><path d=\"M17.41 7.96l-1.37-1.37c-.4-.4-.92-.59-1.43-.59-.52 0-1.04.2-1.43.59L10.3 9.45l-7.72 7.72c-.78.78-.78 2.05 0 2.83L4 21.41c.39.39.9.59 1.41.59.51 0 1.02-.2 1.41-.59l7.78-7.78 2.81-2.81c.8-.78.8-2.07 0-2.86zM5.41 20L4 18.59l7.72-7.72 1.47 1.35L5.41 20z\"/>\n",
              "  </svg>\n",
              "      </button>\n",
              "      \n",
              "  <style>\n",
              "    .colab-df-container {\n",
              "      display:flex;\n",
              "      flex-wrap:wrap;\n",
              "      gap: 12px;\n",
              "    }\n",
              "\n",
              "    .colab-df-convert {\n",
              "      background-color: #E8F0FE;\n",
              "      border: none;\n",
              "      border-radius: 50%;\n",
              "      cursor: pointer;\n",
              "      display: none;\n",
              "      fill: #1967D2;\n",
              "      height: 32px;\n",
              "      padding: 0 0 0 0;\n",
              "      width: 32px;\n",
              "    }\n",
              "\n",
              "    .colab-df-convert:hover {\n",
              "      background-color: #E2EBFA;\n",
              "      box-shadow: 0px 1px 2px rgba(60, 64, 67, 0.3), 0px 1px 3px 1px rgba(60, 64, 67, 0.15);\n",
              "      fill: #174EA6;\n",
              "    }\n",
              "\n",
              "    [theme=dark] .colab-df-convert {\n",
              "      background-color: #3B4455;\n",
              "      fill: #D2E3FC;\n",
              "    }\n",
              "\n",
              "    [theme=dark] .colab-df-convert:hover {\n",
              "      background-color: #434B5C;\n",
              "      box-shadow: 0px 1px 3px 1px rgba(0, 0, 0, 0.15);\n",
              "      filter: drop-shadow(0px 1px 2px rgba(0, 0, 0, 0.3));\n",
              "      fill: #FFFFFF;\n",
              "    }\n",
              "  </style>\n",
              "\n",
              "      <script>\n",
              "        const buttonEl =\n",
              "          document.querySelector('#df-3ac9821d-90de-4022-9d61-8b5fc2d35275 button.colab-df-convert');\n",
              "        buttonEl.style.display =\n",
              "          google.colab.kernel.accessAllowed ? 'block' : 'none';\n",
              "\n",
              "        async function convertToInteractive(key) {\n",
              "          const element = document.querySelector('#df-3ac9821d-90de-4022-9d61-8b5fc2d35275');\n",
              "          const dataTable =\n",
              "            await google.colab.kernel.invokeFunction('convertToInteractive',\n",
              "                                                     [key], {});\n",
              "          if (!dataTable) return;\n",
              "\n",
              "          const docLinkHtml = 'Like what you see? Visit the ' +\n",
              "            '<a target=\"_blank\" href=https://colab.research.google.com/notebooks/data_table.ipynb>data table notebook</a>'\n",
              "            + ' to learn more about interactive tables.';\n",
              "          element.innerHTML = '';\n",
              "          dataTable['output_type'] = 'display_data';\n",
              "          await google.colab.output.renderOutput(dataTable, element);\n",
              "          const docLink = document.createElement('div');\n",
              "          docLink.innerHTML = docLinkHtml;\n",
              "          element.appendChild(docLink);\n",
              "        }\n",
              "      </script>\n",
              "    </div>\n",
              "  </div>\n",
              "  "
            ]
          },
          "metadata": {},
          "execution_count": 52
        }
      ],
      "source": [
        "#add 'blocks' array as new column in DataFrame\n",
        "datos['target'] = y_test.tolist()\n",
        "datos"
      ]
    },
    {
      "cell_type": "code",
      "execution_count": null,
      "metadata": {
        "colab": {
          "base_uri": "https://localhost:8080/",
          "height": 596
        },
        "id": "Xr24_1CTpa-b",
        "outputId": "262399e0-819d-4e82-d623-bdbfdb47d2b0"
      },
      "outputs": [
        {
          "output_type": "display_data",
          "data": {
            "text/plain": [
              "<Figure size 1080x720 with 2 Axes>"
            ],
            "image/png": "[encoded data removed]"
          },
          "metadata": {
            "needs_background": "light"
          }
        }
      ],
      "source": [
        "fig, ax = plt.subplots(figsize=(15,10)) \n",
        "\n",
        "ax = sns.heatmap(datos.corr(),  \n",
        "\n",
        "            annot = True,  \n",
        "\n",
        "                linewidths = 0.5,  \n",
        "\n",
        "                fmt = \".4f\",  \n",
        "\n",
        "                cmap = \"YlGnBu\"); "
      ]
    },
    {
      "cell_type": "markdown",
      "metadata": {
        "id": "XM78OO7V2WBG"
      },
      "source": [
        "# RESOURCES:\n",
        "\n",
        "1. EXAMPLE - https://morioh.com/p/6f14d03e06bf"
      ]
    }
  ],
  "metadata": {
    "colab": {
      "provenance": [],
      "include_colab_link": true
    },
    "kernelspec": {
      "display_name": "Python 3 (ipykernel)",
      "language": "python",
      "name": "python3"
    },
    "language_info": {
      "codemirror_mode": {
        "name": "ipython",
        "version": 3
      },
      "file_extension": ".py",
      "mimetype": "text/x-python",
      "name": "python",
      "nbconvert_exporter": "python",
      "pygments_lexer": "ipython3",
      "version": "3.10.4"
    }
  },
  "nbformat": 4,
  "nbformat_minor": 0
}